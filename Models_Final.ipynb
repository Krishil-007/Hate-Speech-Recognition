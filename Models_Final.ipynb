{
  "nbformat": 4,
  "nbformat_minor": 0,
  "metadata": {
    "colab": {
      "provenance": [],
      "include_colab_link": true
    },
    "kernelspec": {
      "name": "python3",
      "display_name": "Python 3"
    },
    "language_info": {
      "name": "python"
    }
  },
  "cells": [
    {
      "cell_type": "markdown",
      "metadata": {
        "id": "view-in-github",
        "colab_type": "text"
      },
      "source": [
        "<a href=\"https://colab.research.google.com/github/Krishil-007/Hate-Speech-Recognition/blob/main/Models_Final.ipynb\" target=\"_parent\"><img src=\"https://colab.research.google.com/assets/colab-badge.svg\" alt=\"Open In Colab\"/></a>"
      ]
    },
    {
      "cell_type": "markdown",
      "source": [
        "# Data Preprocessing "
      ],
      "metadata": {
        "id": "mNfau43NmYZy"
      }
    },
    {
      "cell_type": "code",
      "execution_count": null,
      "metadata": {
        "id": "pmXlFr_4d1cP"
      },
      "outputs": [],
      "source": [
        "# importing Modules\n",
        "import sklearn as sk\n",
        "import pandas as pd\n",
        "from sklearn.model_selection import train_test_split\n",
        "from sklearn.svm import SVC\n",
        "from sklearn.linear_model import SGDClassifier\n",
        "from sklearn.naive_bayes import MultinomialNB\n",
        "from sklearn.tree import plot_tree\n",
        "from sklearn.feature_extraction.text import CountVectorizer\n",
        "from sklearn.feature_extraction.text import TfidfVectorizer\n",
        "from sklearn import metrics\n",
        "from sklearn.model_selection import GridSearchCV\n",
        "from sklearn.neural_network import MLPClassifier\n",
        "from sklearn.tree import DecisionTreeClassifier\n",
        "from sklearn.metrics import accuracy_score, classification_report, plot_roc_curve\n",
        "import matplotlib.pyplot as plt\n",
        "from sklearn.metrics import confusion_matrix\n",
        "from sklearn.pipeline import Pipeline\n",
        "import numpy as np\n",
        "from sklearn.preprocessing import StandardScaler\n",
        "from sklearn.neighbors import KNeighborsClassifier\n",
        "import re"
      ]
    },
    {
      "cell_type": "code",
      "source": [
        "# Data Cleaning (Removing Links From the Dataset)\n",
        "df = pd.read_csv(\"labeled_data.csv\")\n",
        "df['tweet'] = df['tweet'].str.replace('http[s]?://(?:[a-zA-Z]|[0-9]|[$-_@.&+]|[!*\\(\\),]|(?:%[0-9a-fA-F][0-9a-fA-F]))+', ' ')\n",
        "df['tweet'] = df['tweet'].str.replace('http[s]', ' ')\n",
        "df.to_csv(\"/content/data.csv\")"
      ],
      "metadata": {
        "id": "GaqDHO6peBvf",
        "colab": {
          "base_uri": "https://localhost:8080/"
        },
        "outputId": "3ef93260-0f46-45b0-a11e-2dd3ab9846b2"
      },
      "execution_count": null,
      "outputs": [
        {
          "output_type": "stream",
          "name": "stderr",
          "text": [
            "/usr/local/lib/python3.7/dist-packages/ipykernel_launcher.py:3: FutureWarning: The default value of regex will change from True to False in a future version.\n",
            "  This is separate from the ipykernel package so we can avoid doing imports until\n",
            "/usr/local/lib/python3.7/dist-packages/ipykernel_launcher.py:4: FutureWarning: The default value of regex will change from True to False in a future version.\n",
            "  after removing the cwd from sys.path.\n"
          ]
        }
      ]
    },
    {
      "cell_type": "code",
      "source": [
        "#Printing Dataset\n",
        "df = df[0:len(df)-1]\n",
        "print(df)\n",
        "\"\"\"0 - hate speech \n",
        "   1 - offensive language\n",
        "   2 - neither\"\"\""
      ],
      "metadata": {
        "id": "htK69citeeiQ",
        "colab": {
          "base_uri": "https://localhost:8080/",
          "height": 504
        },
        "outputId": "5a680abb-6079-473d-c97f-67976bb8d73c"
      },
      "execution_count": null,
      "outputs": [
        {
          "output_type": "stream",
          "name": "stdout",
          "text": [
            "       Unnamed: 0  count  hate_speech  offensive_language  neither  class  \\\n",
            "0               0      3            0                   0        3      2   \n",
            "1               1      3            0                   3        0      1   \n",
            "2               2      3            0                   3        0      1   \n",
            "3               3      3            0                   2        1      1   \n",
            "4               4      6            0                   6        0      1   \n",
            "...           ...    ...          ...                 ...      ...    ...   \n",
            "24777       25290      3            2                   1        0      0   \n",
            "24778       25291      3            0                   2        1      1   \n",
            "24779       25292      3            0                   1        2      2   \n",
            "24780       25294      3            0                   3        0      1   \n",
            "24781       25295      6            0                   6        0      1   \n",
            "\n",
            "                                                   tweet  \n",
            "0      !!! RT @mayasolovely: As a woman you shouldn't...  \n",
            "1      !!!!! RT @mleew17: boy dats cold...tyga dwn ba...  \n",
            "2      !!!!!!! RT @UrKindOfBrand Dawg!!!! RT @80sbaby...  \n",
            "3      !!!!!!!!! RT @C_G_Anderson: @viva_based she lo...  \n",
            "4      !!!!!!!!!!!!! RT @ShenikaRoberts: The shit you...  \n",
            "...                                                  ...  \n",
            "24777  you're such a retard i hope you get type 2 dia...  \n",
            "24778  you's a muthaf***in lie &#8220;@LifeAsKing: @2...  \n",
            "24779  you've gone and broke the wrong heart baby, an...  \n",
            "24780  young buck wanna eat!!.. dat nigguh like I ain...  \n",
            "24781              youu got wild bitches tellin you lies  \n",
            "\n",
            "[24782 rows x 7 columns]\n"
          ]
        },
        {
          "output_type": "execute_result",
          "data": {
            "text/plain": [
              "'0 - hate speech \\n   1 - offensive language\\n   2 - neither'"
            ],
            "application/vnd.google.colaboratory.intrinsic+json": {
              "type": "string"
            }
          },
          "metadata": {},
          "execution_count": 3
        }
      ]
    },
    {
      "cell_type": "code",
      "source": [
        "# Creating train and test dataset\n",
        "X_primary = df['tweet']\n",
        "Y = df['class']\n",
        "cv = TfidfVectorizer()\n",
        "X = cv.fit_transform(X_primary)\n",
        "print(X)"
      ],
      "metadata": {
        "id": "vhPLPlgyediI",
        "colab": {
          "base_uri": "https://localhost:8080/"
        },
        "outputId": "dca2e2f5-cdc6-43e0-8651-732cc9924c63"
      },
      "execution_count": null,
      "outputs": [
        {
          "output_type": "stream",
          "name": "stdout",
          "text": [
            "  (0, 21513)\t0.15319130534265502\n",
            "  (0, 29675)\t0.15042897628425742\n",
            "  (0, 28613)\t0.09005525560793928\n",
            "  (0, 28081)\t0.20003884715825376\n",
            "  (0, 2324)\t0.20106893211728638\n",
            "  (0, 25961)\t0.20762875310314213\n",
            "  (0, 18401)\t0.17834363660643518\n",
            "  (0, 2432)\t0.16199554295026192\n",
            "  (0, 13785)\t0.2299226084176294\n",
            "  (0, 32631)\t0.1421949025706353\n",
            "  (0, 30515)\t0.14042708336034013\n",
            "  (0, 6655)\t0.33656084641057105\n",
            "  (0, 1697)\t0.1595570604914254\n",
            "  (0, 7031)\t0.28440399860940097\n",
            "  (0, 25966)\t0.2856916523764908\n",
            "  (0, 32581)\t0.18920907679507584\n",
            "  (0, 31978)\t0.23861586161888915\n",
            "  (0, 2870)\t0.35258627711780643\n",
            "  (0, 18748)\t0.3825301905198702\n",
            "  (0, 24707)\t0.08225585264530276\n",
            "  (1, 22394)\t0.2622294487842765\n",
            "  (1, 629)\t0.2849530968826338\n",
            "  (1, 14437)\t0.12080628428815068\n",
            "  (1, 13519)\t0.1372765735445475\n",
            "  (1, 8114)\t0.2096974574304683\n",
            "  :\t:\n",
            "  (24779, 12292)\t0.2794255053072462\n",
            "  (24779, 5104)\t0.29006172970473215\n",
            "  (24779, 18826)\t0.15504892239547116\n",
            "  (24779, 2479)\t0.2767150611515133\n",
            "  (24779, 28613)\t0.11552402968990026\n",
            "  (24779, 32581)\t0.12135990763511828\n",
            "  (24780, 5241)\t0.43395044839221103\n",
            "  (24780, 20594)\t0.31931015881135955\n",
            "  (24780, 8823)\t0.31398046187345624\n",
            "  (24780, 11524)\t0.27204745537198055\n",
            "  (24780, 1960)\t0.3001009182049216\n",
            "  (24780, 9679)\t0.27146948344913985\n",
            "  (24780, 31192)\t0.25888377663164397\n",
            "  (24780, 32598)\t0.31537707639836393\n",
            "  (24780, 2041)\t0.27422745100236123\n",
            "  (24780, 17488)\t0.1591538487505145\n",
            "  (24780, 8114)\t0.26778246197330524\n",
            "  (24780, 30515)\t0.186162942981045\n",
            "  (24781, 32655)\t0.541447449271138\n",
            "  (24781, 28421)\t0.4717462696276261\n",
            "  (24781, 17438)\t0.44659873805264066\n",
            "  (24781, 31798)\t0.42934234963864487\n",
            "  (24781, 4282)\t0.17319429483943086\n",
            "  (24781, 12373)\t0.22345525890242476\n",
            "  (24781, 32581)\t0.14344446399452526\n"
          ]
        }
      ]
    },
    {
      "cell_type": "markdown",
      "source": [
        "# Models Without GridSearch"
      ],
      "metadata": {
        "id": "VHVNNemBfRMA"
      }
    },
    {
      "cell_type": "code",
      "source": [
        "#APPLYING MULTINOMIALNB\n",
        "acc = []\n",
        "for i in range(50,90):\n",
        "  arr = []\n",
        "  train_X, test_X, train_Y, test_Y = train_test_split(X,Y,train_size=i/100)\n",
        "  M_nb = MultinomialNB()\n",
        "  M_nb.fit(train_X,train_Y)\n",
        "  pred_y = M_nb.predict(test_X)\n",
        "  accuracy = metrics.accuracy_score(pred_y,test_Y)\n",
        "  arr.append(accuracy)\n",
        "  arr.append(i)\n",
        "  acc.append(arr)\n",
        "acc = np.array(acc)\n",
        "plt.plot(acc[:,1],acc[:,0],marker='.',color='g')\n",
        "max_acc = acc[0,0]\n",
        "max_index = acc[0,1]\n",
        "for i in acc:\n",
        "  if i[0]>max_acc:\n",
        "    max_acc = i[0]\n",
        "    max_index = i[1]\n",
        "\n",
        "print(max_acc, max_index)\n",
        "print(acc)\n",
        "print(\"For different ratio of train and test data we have got maximum accuracy of {0} for {1}% of training Data and {2}% of Test data\".format(max_acc,max_index/100,(100-max_index)/100))"
      ],
      "metadata": {
        "id": "3aSwKOiefbZI",
        "colab": {
          "base_uri": "https://localhost:8080/",
          "height": 1000
        },
        "outputId": "f42e1bd8-284e-4bc3-c8ef-5b04d8186c9d"
      },
      "execution_count": null,
      "outputs": [
        {
          "output_type": "stream",
          "name": "stdout",
          "text": [
            "0.7984196368527237 76.0\n",
            "[[ 0.78694214 50.        ]\n",
            " [ 0.78038538 51.        ]\n",
            " [ 0.78480161 52.        ]\n",
            " [ 0.78210852 53.        ]\n",
            " [ 0.79       54.        ]\n",
            " [ 0.78111549 55.        ]\n",
            " [ 0.78817056 56.        ]\n",
            " [ 0.78493009 57.        ]\n",
            " [ 0.7828802  58.        ]\n",
            " [ 0.78860348 59.        ]\n",
            " [ 0.77998588 60.        ]\n",
            " [ 0.78996379 61.        ]\n",
            " [ 0.78806541 62.        ]\n",
            " [ 0.78789531 63.        ]\n",
            " [ 0.79208698 64.        ]\n",
            " [ 0.78741065 65.        ]\n",
            " [ 0.7857821  66.        ]\n",
            " [ 0.78726006 67.        ]\n",
            " [ 0.79031648 68.        ]\n",
            " [ 0.79304959 69.        ]\n",
            " [ 0.78829859 70.        ]\n",
            " [ 0.78948101 71.        ]\n",
            " [ 0.78599222 72.        ]\n",
            " [ 0.77988643 73.        ]\n",
            " [ 0.79438237 74.        ]\n",
            " [ 0.78615236 75.        ]\n",
            " [ 0.79841964 76.        ]\n",
            " [ 0.78789474 77.        ]\n",
            " [ 0.79497524 78.        ]\n",
            " [ 0.78847262 79.        ]\n",
            " [ 0.79564253 80.        ]\n",
            " [ 0.79740922 81.        ]\n",
            " [ 0.78816409 82.        ]\n",
            " [ 0.79634465 83.        ]\n",
            " [ 0.7899647  84.        ]\n",
            " [ 0.78214094 85.        ]\n",
            " [ 0.7945245  86.        ]\n",
            " [ 0.79577902 87.        ]\n",
            " [ 0.78009415 88.        ]\n",
            " [ 0.79061239 89.        ]]\n",
            "For different ratio of train and test data we have got maximum accuracy of 0.7984196368527237 for 0.76% of training Data and 0.24% of Test data\n"
          ]
        },
        {
          "output_type": "display_data",
          "data": {
            "text/plain": [
              "<Figure size 432x288 with 1 Axes>"
            ],
            "image/png": "[encoded data removed]"
          },
          "metadata": {
            "needs_background": "light"
          }
        }
      ]
    },
    {
      "cell_type": "code",
      "execution_count": null,
      "metadata": {
        "id": "69f4ce43"
      },
      "outputs": [],
      "source": [
        "# SVM\n",
        "X = df['tweet']\n",
        "Y = df['class']\n",
        "cv = TfidfVectorizer(lowercase=True)\n",
        "X = cv.fit_transform(X)\n",
        "size = X.shape[0]\n",
        "acc = []\n",
        "for i in range(50,95,5):\n",
        "  arr = []\n",
        "  train_X, test_X, train_Y, test_Y = train_test_split(X,Y,train_size=i/100)\n",
        "  SVM = SVC(kernel = 'linear', probability=True)\n",
        "  SVM.fit(train_X,train_Y)\n",
        "  pred_y = SVM.predict(test_X)\n",
        "  arr.append(metrics.accuracy_score(pred_y,test_Y))\n",
        "  arr.append(i)\n",
        "  acc.append(arr)\n",
        "  print(acc)\n",
        "print(acc)\n",
        "plt.title(\"Support Vector Machine\")\n",
        "plt.xlabel(\"training dataset size (in %)\")\n",
        "plt.ylabel(\"Accuracy\")\n",
        "plt.plot(acc[:,1],acc[:,0],marker='.',color='g')\n",
        "max_acc = acc[0,0]\n",
        "max_index = acc[0,1]\n",
        "for i in acc:\n",
        "  if i[0]>max_acc:\n",
        "    max_acc = i[0]\n",
        "    max_index = i[1]\n",
        "print(\"For different ratio of train and test data we have got maximum accuracy of {0} for {1}% of training Data and {2}% of Test data\".format(max_acc,max_index/100,(100-max_index)/100))"
      ]
    },
    {
      "cell_type": "code",
      "source": [
        "# KNN\n",
        "train_X, test_X, train_Y, test_Y = train_test_split(X,Y,test_size=0.20)\n",
        "acc=[]\n",
        "for i in range(1,150,2):\n",
        "  arr = []\n",
        "  clf=KNeighborsClassifier(n_neighbors=i)\n",
        "  clf.fit(train_X,train_Y)\n",
        "  y_pred=clf.predict(test_X)\n",
        "  arr.append(metrics.accuracy_score(test_Y,y_pred,normalize=True))\n",
        "  arr.append(i)\n",
        "  acc.append(arr)\n",
        "acc = np.array(acc)\n",
        "plt.title(\"K Nearest Neighbours\")\n",
        "plt.xlabel(\"Value of K\")\n",
        "plt.ylabel(\"Accuracy\")\n",
        "plt.plot(acc[:,1],acc[:,0],marker='.')\n",
        "max_acc = acc[0,0]\n",
        "max_index = acc[0,1]\n",
        "for i in acc:\n",
        "  if i[0]>max_acc:\n",
        "    max_acc = i[0]\n",
        "    max_index = i[1]\n",
        "print(\"We got maximum accuracy of {0} for K={1}\".format(max_acc,max_index))"
      ],
      "metadata": {
        "colab": {
          "base_uri": "https://localhost:8080/",
          "height": 313
        },
        "id": "U67aqlKDh9Bh",
        "outputId": "ec674e8e-c568-4ab6-8d6f-e00ca1628b3c"
      },
      "execution_count": null,
      "outputs": [
        {
          "output_type": "stream",
          "name": "stdout",
          "text": [
            "We got maximum accuracy of 0.8301391970950172 for K=7.0\n"
          ]
        },
        {
          "output_type": "display_data",
          "data": {
            "text/plain": [
              "<Figure size 432x288 with 1 Axes>"
            ],
            "image/png": "[encoded data removed]"
          },
          "metadata": {
            "needs_background": "light"
          }
        }
      ]
    },
    {
      "cell_type": "code",
      "source": [
        "# ANN \n",
        "X = df['tweet']\n",
        "Y = df['class']\n",
        "cv = TfidfVectorizer(lowercase=True)\n",
        "X = cv.fit_transform(X)\n",
        "size = X.shape[0]\n",
        "acc = []\n",
        "test_sequence=[]\n",
        "for i in range(50,95,5):\n",
        "  arr = []\n",
        "  test_sequence.append(i)\n",
        "  train_X, test_X, train_Y, test_Y = train_test_split(X,Y,train_size=i/100)\n",
        "  MLP = MLPClassifier(solver='lbfgs', alpha=1e-5,hidden_layer_sizes=(6,),random_state=1, activation='relu', max_iter=500)\n",
        "  MLP.fit(train_X,train_Y)\n",
        "  pred_y = MLP.predict(test_X)\n",
        "  arr.append(metrics.accuracy_score(pred_y,test_Y))\n",
        "  arr.append(i)\n",
        "  acc.append(arr)\n",
        "  print(acc)\n",
        "acc = np.array(acc)\n",
        "plt.title(\"Artifical Neural Networks\")\n",
        "plt.xlabel(\"training dataset size (in %)\")\n",
        "plt.ylabel(\"Accuracy\")\n",
        "plt.plot(acc[:,1],acc[:,0],marker='.',color='g')\n",
        "print(acc)\n",
        "max_acc = acc[0,0]\n",
        "max_index = acc[0,1]\n",
        "for i in acc:\n",
        "  if i[0]>max_acc:\n",
        "    max_acc = i[0]\n",
        "    max_index = i[1]\n",
        "print(\"For different ratio of train and test data we have got maximum accuracy of {0} for {1}% of training Data and {2}% of Test data\".format(max_acc,max_index,100-max_index))"
      ],
      "metadata": {
        "id": "pXMCU2YDgjAD",
        "colab": {
          "base_uri": "https://localhost:8080/",
          "height": 654
        },
        "outputId": "cc7fa0fd-0fef-4200-f6fe-492b6bf0ae22"
      },
      "execution_count": null,
      "outputs": [
        {
          "output_type": "stream",
          "name": "stdout",
          "text": [
            "[[0.8836252118473086, 50]]\n",
            "[[0.8836252118473086, 50], [0.8855810616929699, 55]]\n",
            "[[0.8836252118473086, 50], [0.8855810616929699, 55], [0.8822757994552608, 60]]\n",
            "[[0.8836252118473086, 50], [0.8855810616929699, 55], [0.8822757994552608, 60], [0.89428176158635, 65]]\n",
            "[[0.8836252118473086, 50], [0.8855810616929699, 55], [0.8822757994552608, 60], [0.89428176158635, 65], [0.8894418291862811, 70]]\n",
            "[[0.8836252118473086, 50], [0.8855810616929699, 55], [0.8822757994552608, 60], [0.89428176158635, 65], [0.8894418291862811, 70], [0.881536475145255, 75]]\n",
            "[[0.8836252118473086, 50], [0.8855810616929699, 55], [0.8822757994552608, 60], [0.89428176158635, 65], [0.8894418291862811, 70], [0.881536475145255, 75], [0.8930804922332055, 80]]\n",
            "[[0.8836252118473086, 50], [0.8855810616929699, 55], [0.8822757994552608, 60], [0.89428176158635, 65], [0.8894418291862811, 70], [0.881536475145255, 75], [0.8930804922332055, 80], [0.8878429263044648, 85]]\n",
            "[[0.8836252118473086, 50], [0.8855810616929699, 55], [0.8822757994552608, 60], [0.89428176158635, 65], [0.8894418291862811, 70], [0.881536475145255, 75], [0.8930804922332055, 80], [0.8878429263044648, 85], [0.8878580072609923, 90]]\n",
            "[[ 0.88362521 50.        ]\n",
            " [ 0.88558106 55.        ]\n",
            " [ 0.8822758  60.        ]\n",
            " [ 0.89428176 65.        ]\n",
            " [ 0.88944183 70.        ]\n",
            " [ 0.88153648 75.        ]\n",
            " [ 0.89308049 80.        ]\n",
            " [ 0.88784293 85.        ]\n",
            " [ 0.88785801 90.        ]]\n",
            "For different ratio of train and test data we have got maximum accuracy of 0.89428176158635 for 65.0% of training Data and 35.0% of Test data\n"
          ]
        },
        {
          "output_type": "display_data",
          "data": {
            "text/plain": [
              "<Figure size 432x288 with 1 Axes>"
            ],
            "image/png": "[encoded data removed]"
          },
          "metadata": {
            "needs_background": "light"
          }
        }
      ]
    },
    {
      "cell_type": "code",
      "source": [
        "# DT\n",
        "def train_using_gini(X_train, X_test, Y_train):\n",
        "    # Creating the classifier object\n",
        "    clf_gini = DecisionTreeClassifier(criterion = \"gini\",random_state = 100, max_depth=3, min_samples_leaf=5)\n",
        "    # Performing training\n",
        "    clf_gini.fit(X_train, Y_train)\n",
        "    return clf_gini\n",
        "      \n",
        "# Function to perform training with entropy.\n",
        "def tarin_using_entropy(X_train, X_test, y_train):\n",
        "    # Decision tree with entropy\n",
        "    clf_entropy = DecisionTreeClassifier(criterion = \"entropy\", random_state = 100, max_depth = 3, min_samples_leaf = 5)\n",
        "    # Performing training\n",
        "    clf_entropy.fit(X_train, y_train)\n",
        "    return clf_entropy\n",
        "def prediction(X_test, clf_object):\n",
        "    # Predicton on test with giniIndex\n",
        "    y_pred = clf_object.predict(test_X)\n",
        "    print(\"Predicted values:\")\n",
        "    print(y_pred)\n",
        "    return y_pred\n",
        "def cal_accuracy(y_test, y_pred):\n",
        "    \"\"\"print(\"Confusion Matrix: \",confusion_matrix(y_test, y_pred))\n",
        "    print (\"Accuracy : \",accuracy_score(y_test,y_pred)*100)\n",
        "    print(\"Report : \",classification_report(y_test, y_pred))\"\"\"\n",
        "    return accuracy_score(y_test,y_pred)*100\n",
        "\n",
        "acc1 = []\n",
        "acc2 = []\n",
        "for i in range(50,95,5):\n",
        "  arr1 = []\n",
        "  train_X, test_X, train_Y, test_Y = train_test_split(X,Y,train_size=i/100)\n",
        "  clf_gini = train_using_gini(train_X, test_X, train_Y)\n",
        "  clf_entropy = tarin_using_entropy(train_X, test_X, train_Y)\n",
        "  # Operational Phase\n",
        "  # Prediction using gini\n",
        "  y_pred_gini = prediction(test_X, clf_gini)\n",
        "  arr1.append(cal_accuracy(test_Y, y_pred_gini))\n",
        "  arr1.append(i)\n",
        "  # Prediction using entropy\n",
        "  y_pred_entropy = prediction(test_X, clf_entropy)\n",
        "  arr2 = []\n",
        "  arr2.append(cal_accuracy(test_Y, y_pred_entropy))\n",
        "  arr2.append(i)\n",
        "  acc1.append(arr1)\n",
        "  acc2.append(arr2)\n",
        "\n",
        "print(acc1,acc2)\n",
        "acc1 = np.array(acc1)\n",
        "acc2 = np.array(acc2)\n",
        "max_acc_g = acc1[0,0]\n",
        "max_index_g = acc1[0,1]\n",
        "for i in acc1:\n",
        "  if i[0]>max_acc_g:\n",
        "    max_acc_g = i[0]\n",
        "    max_index_g = i[1]\n",
        "max_acc_e = acc2[0,0]\n",
        "max_index_e = acc2[0,1]\n",
        "for i in acc2:\n",
        "  if i[0]>max_acc_e:\n",
        "    max_acc_e = i[0]\n",
        "    max_index_e = i[1]\n",
        "train_X, test_X, train_Y, test_Y = train_test_split(X,Y,train_size=max_index_g/100)\n",
        "gini_clf = train_using_gini(train_X, test_X, train_Y)\n",
        "train_X, test_X, train_Y, test_Y = train_test_split(X,Y,train_size=max_index_e/100)\n",
        "entropy_clf = tarin_using_entropy(train_X, test_X, train_Y)\n",
        "print(\"Accuracy (Gini Index): \",max_acc_g)\n",
        "print(\"Accuracy (Entropy): \",max_acc_e)"
      ],
      "metadata": {
        "colab": {
          "base_uri": "https://localhost:8080/"
        },
        "id": "hcLcWCr7guoP",
        "outputId": "0bcc4ad6-77ef-4808-d0c4-ef93a5b03f82"
      },
      "execution_count": null,
      "outputs": [
        {
          "output_type": "stream",
          "name": "stdout",
          "text": [
            "Predicted values:\n",
            "[1 1 1 ... 1 1 1]\n",
            "Predicted values:\n",
            "[1 1 1 ... 1 1 1]\n",
            "Predicted values:\n",
            "[1 1 1 ... 1 1 1]\n",
            "Predicted values:\n",
            "[1 1 1 ... 1 1 1]\n",
            "Predicted values:\n",
            "[1 1 1 ... 1 1 1]\n",
            "Predicted values:\n",
            "[1 1 1 ... 1 1 1]\n",
            "Predicted values:\n",
            "[1 1 1 ... 1 1 1]\n",
            "Predicted values:\n",
            "[1 1 1 ... 1 1 1]\n",
            "Predicted values:\n",
            "[1 1 1 ... 1 1 1]\n",
            "Predicted values:\n",
            "[1 1 1 ... 1 1 1]\n",
            "Predicted values:\n",
            "[1 1 1 ... 1 1 1]\n",
            "Predicted values:\n",
            "[1 1 1 ... 1 1 1]\n",
            "Predicted values:\n",
            "[1 1 1 ... 1 1 1]\n",
            "Predicted values:\n",
            "[1 1 1 ... 1 1 1]\n",
            "Predicted values:\n",
            "[1 1 1 ... 1 1 1]\n",
            "Predicted values:\n",
            "[1 1 1 ... 1 1 1]\n",
            "Predicted values:\n",
            "[1 1 1 ... 1 1 1]\n",
            "Predicted values:\n",
            "[1 1 1 ... 1 1 1]\n",
            "[[77.74190945040755, 50], [77.60939741750359, 55], [77.78674467870474, 60], [77.81876873414802, 65], [77.47141896435777, 70], [77.01743060038734, 75], [77.8696792414767, 80], [77.72996234534696, 85], [77.97498991528842, 90]] [[77.70155758211605, 50], [77.60939741750359, 55], [77.78674467870474, 60], [77.8072400276689, 65], [77.44451916610625, 70], [77.01743060038734, 75], [77.8696792414767, 80], [77.72996234534696, 85], [77.97498991528842, 90]]\n",
            "Accuracy (Gini Index):  77.97498991528842\n",
            "Accuracy (Entropy):  77.97498991528842\n"
          ]
        }
      ]
    },
    {
      "cell_type": "code",
      "source": [
        "plt.title(\"Gini Index:\")\n",
        "plt.xlabel(\"value of i\")\n",
        "plt.ylabel(\"accuracy\")\n",
        "plt.plot(acc1[:,1],acc1[:,0],marker='.',color='g')"
      ],
      "metadata": {
        "colab": {
          "base_uri": "https://localhost:8080/",
          "height": 312
        },
        "id": "hL3qk7Ep2zQQ",
        "outputId": "390a6098-6ec6-444b-a27a-c77f74a7b092"
      },
      "execution_count": null,
      "outputs": [
        {
          "output_type": "execute_result",
          "data": {
            "text/plain": [
              "[<matplotlib.lines.Line2D at 0x7fa0802eb490>]"
            ]
          },
          "metadata": {},
          "execution_count": 9
        },
        {
          "output_type": "display_data",
          "data": {
            "text/plain": [
              "<Figure size 432x288 with 1 Axes>"
            ],
            "image/png": "[encoded data removed]"
          },
          "metadata": {
            "needs_background": "light"
          }
        }
      ]
    },
    {
      "cell_type": "code",
      "source": [
        "plt.title(\"Entropy:\")\n",
        "plt.xlabel(\"value of i\")\n",
        "plt.ylabel(\"accuracy\")\n",
        "plt.plot(acc2[:,1],acc2[:,0],marker='.',color='g')"
      ],
      "metadata": {
        "colab": {
          "base_uri": "https://localhost:8080/",
          "height": 312
        },
        "id": "-76KCO7b22S9",
        "outputId": "c58312e0-c620-4eb1-c271-0e4c7b345b12"
      },
      "execution_count": null,
      "outputs": [
        {
          "output_type": "execute_result",
          "data": {
            "text/plain": [
              "[<matplotlib.lines.Line2D at 0x7fa080231f90>]"
            ]
          },
          "metadata": {},
          "execution_count": 10
        },
        {
          "output_type": "display_data",
          "data": {
            "text/plain": [
              "<Figure size 432x288 with 1 Axes>"
            ],
            "image/png": "[encoded data removed]"
          },
          "metadata": {
            "needs_background": "light"
          }
        }
      ]
    },
    {
      "cell_type": "code",
      "source": [
        "plot_tree(gini_clf,filled = True)"
      ],
      "metadata": {
        "colab": {
          "base_uri": "https://localhost:8080/",
          "height": 508
        },
        "id": "tGrL1OQm24tg",
        "outputId": "1b5b8d05-9c50-4e31-c05e-956fc7938edb"
      },
      "execution_count": null,
      "outputs": [
        {
          "output_type": "execute_result",
          "data": {
            "text/plain": [
              "[Text(0.5, 0.875, 'X[4275] <= 0.002\\ngini = 0.369\\nsamples = 22303\\nvalue = [1271, 17266, 3766]'),\n",
              " Text(0.25, 0.625, 'X[4282] <= 0.003\\ngini = 0.471\\nsamples = 15220\\nvalue = [1115, 10350, 3755]'),\n",
              " Text(0.125, 0.375, 'X[13527] <= 0.004\\ngini = 0.522\\nsamples = 12677\\nvalue = [1072, 7850, 3755]'),\n",
              " Text(0.0625, 0.125, 'gini = 0.56\\nsamples = 10794\\nvalue = [1033, 6020, 3741]'),\n",
              " Text(0.1875, 0.125, 'gini = 0.055\\nsamples = 1883\\nvalue = [39, 1830, 14]'),\n",
              " Text(0.375, 0.375, 'X[20569] <= 0.199\\ngini = 0.033\\nsamples = 2543\\nvalue = [43, 2500, 0]'),\n",
              " Text(0.3125, 0.125, 'gini = 0.024\\nsamples = 2435\\nvalue = [30, 2405, 0]'),\n",
              " Text(0.4375, 0.125, 'gini = 0.212\\nsamples = 108\\nvalue = [13, 95, 0]'),\n",
              " Text(0.75, 0.625, 'X[20559] <= 0.133\\ngini = 0.046\\nsamples = 7083\\nvalue = [156, 6916, 11]'),\n",
              " Text(0.625, 0.375, 'X[8694] <= 0.253\\ngini = 0.036\\nsamples = 6641\\nvalue = [112, 6518, 11]'),\n",
              " Text(0.5625, 0.125, 'gini = 0.035\\nsamples = 6623\\nvalue = [107, 6505, 11]'),\n",
              " Text(0.6875, 0.125, 'gini = 0.401\\nsamples = 18\\nvalue = [5, 13, 0]'),\n",
              " Text(0.875, 0.375, 'X[2956] <= 0.336\\ngini = 0.179\\nsamples = 442\\nvalue = [44, 398, 0]'),\n",
              " Text(0.8125, 0.125, 'gini = 0.167\\nsamples = 435\\nvalue = [40, 395, 0]'),\n",
              " Text(0.9375, 0.125, 'gini = 0.49\\nsamples = 7\\nvalue = [4, 3, 0]')]"
            ]
          },
          "metadata": {},
          "execution_count": 11
        },
        {
          "output_type": "display_data",
          "data": {
            "text/plain": [
              "<Figure size 432x288 with 1 Axes>"
            ],
            "image/png": "[encoded data removed]"
          },
          "metadata": {
            "needs_background": "light"
          }
        }
      ]
    },
    {
      "cell_type": "code",
      "source": [
        "plot_tree(entropy_clf,filled=True)"
      ],
      "metadata": {
        "colab": {
          "base_uri": "https://localhost:8080/",
          "height": 508
        },
        "id": "-W0VK47P26_Q",
        "outputId": "014b6d25-3df3-4e35-86e3-d17d5b54008d"
      },
      "execution_count": null,
      "outputs": [
        {
          "output_type": "execute_result",
          "data": {
            "text/plain": [
              "[Text(0.5, 0.875, 'X[4275] <= 0.002\\nentropy = 0.955\\nsamples = 22303\\nvalue = [1294, 17284, 3725]'),\n",
              " Text(0.25, 0.625, 'X[4282] <= 0.003\\nentropy = 1.153\\nsamples = 15173\\nvalue = [1124, 10334, 3715]'),\n",
              " Text(0.125, 0.375, 'X[13527] <= 0.004\\nentropy = 1.25\\nsamples = 12623\\nvalue = [1077, 7831, 3715]'),\n",
              " Text(0.0625, 0.125, 'entropy = 1.324\\nsamples = 10759\\nvalue = [1038, 6021, 3700]'),\n",
              " Text(0.1875, 0.125, 'entropy = 0.214\\nsamples = 1864\\nvalue = [39, 1810, 15]'),\n",
              " Text(0.375, 0.375, 'X[9610] <= 0.114\\nentropy = 0.133\\nsamples = 2550\\nvalue = [47, 2503, 0]'),\n",
              " Text(0.3125, 0.125, 'entropy = 0.121\\nsamples = 2544\\nvalue = [42, 2502, 0]'),\n",
              " Text(0.4375, 0.125, 'entropy = 0.65\\nsamples = 6\\nvalue = [5, 1, 0]'),\n",
              " Text(0.75, 0.625, 'X[20559] <= 0.027\\nentropy = 0.178\\nsamples = 7130\\nvalue = [170, 6950, 10]'),\n",
              " Text(0.625, 0.375, 'X[10475] <= 0.106\\nentropy = 0.149\\nsamples = 6638\\nvalue = [123, 6505, 10]'),\n",
              " Text(0.5625, 0.125, 'entropy = 0.146\\nsamples = 6633\\nvalue = [119, 6504, 10]'),\n",
              " Text(0.6875, 0.125, 'entropy = 0.722\\nsamples = 5\\nvalue = [4, 1, 0]'),\n",
              " Text(0.875, 0.375, 'X[2956] <= 0.336\\nentropy = 0.455\\nsamples = 492\\nvalue = [47, 445, 0]'),\n",
              " Text(0.8125, 0.125, 'entropy = 0.433\\nsamples = 484\\nvalue = [43, 441, 0]'),\n",
              " Text(0.9375, 0.125, 'entropy = 1.0\\nsamples = 8\\nvalue = [4, 4, 0]')]"
            ]
          },
          "metadata": {},
          "execution_count": 12
        },
        {
          "output_type": "display_data",
          "data": {
            "text/plain": [
              "<Figure size 432x288 with 1 Axes>"
            ],
            "image/png": "[encoded data removed]"
          },
          "metadata": {
            "needs_background": "light"
          }
        }
      ]
    },
    {
      "cell_type": "markdown",
      "source": [
        "# Models with GridSearch"
      ],
      "metadata": {
        "id": "WkNT9mzGfuCX"
      }
    },
    {
      "cell_type": "code",
      "source": [
        "#multinomialNB with GridSearch\n",
        "acc = []\n",
        "alpha = [1,0.5,0.1,0.01,0.001,0.0001]\n",
        "param = {'alpha': alpha}\n",
        "train_X, test_X, train_Y, test_Y = train_test_split(X,Y,train_size=max_index/100)\n",
        "M_nb = GridSearchCV(MultinomialNB(),param,refit=True,verbose=3)\n",
        "M_nb.fit(train_X,train_Y)\n",
        "pred_y = M_nb.predict(test_X)\n",
        "print(M_nb.best_params_)\n",
        "print(\"Accuracy Score: \",metrics.accuracy_score(pred_y,test_Y))"
      ],
      "metadata": {
        "colab": {
          "base_uri": "https://localhost:8080/"
        },
        "id": "k-CUovncf-Xx",
        "outputId": "c91a1bfd-6434-44b1-f00f-8623a7ea91f3"
      },
      "execution_count": null,
      "outputs": [
        {
          "output_type": "stream",
          "name": "stdout",
          "text": [
            "Fitting 5 folds for each of 6 candidates, totalling 30 fits\n",
            "[CV 1/5] END ...........................alpha=1;, score=0.789 total time=   0.0s\n",
            "[CV 2/5] END ...........................alpha=1;, score=0.788 total time=   0.0s\n",
            "[CV 3/5] END ...........................alpha=1;, score=0.789 total time=   0.0s\n",
            "[CV 4/5] END ...........................alpha=1;, score=0.790 total time=   0.0s\n",
            "[CV 5/5] END ...........................alpha=1;, score=0.787 total time=   0.0s\n",
            "[CV 1/5] END .........................alpha=0.5;, score=0.812 total time=   0.0s\n",
            "[CV 2/5] END .........................alpha=0.5;, score=0.809 total time=   0.0s\n",
            "[CV 3/5] END .........................alpha=0.5;, score=0.812 total time=   0.0s\n",
            "[CV 4/5] END .........................alpha=0.5;, score=0.808 total time=   0.0s\n",
            "[CV 5/5] END .........................alpha=0.5;, score=0.808 total time=   0.0s\n",
            "[CV 1/5] END .........................alpha=0.1;, score=0.845 total time=   0.0s\n",
            "[CV 2/5] END .........................alpha=0.1;, score=0.850 total time=   0.0s\n",
            "[CV 3/5] END .........................alpha=0.1;, score=0.846 total time=   0.0s\n",
            "[CV 4/5] END .........................alpha=0.1;, score=0.846 total time=   0.0s\n",
            "[CV 5/5] END .........................alpha=0.1;, score=0.844 total time=   0.0s\n",
            "[CV 1/5] END ........................alpha=0.01;, score=0.833 total time=   0.0s\n",
            "[CV 2/5] END ........................alpha=0.01;, score=0.825 total time=   0.0s\n",
            "[CV 3/5] END ........................alpha=0.01;, score=0.825 total time=   0.0s\n",
            "[CV 4/5] END ........................alpha=0.01;, score=0.818 total time=   0.0s\n",
            "[CV 5/5] END ........................alpha=0.01;, score=0.823 total time=   0.0s\n",
            "[CV 1/5] END .......................alpha=0.001;, score=0.824 total time=   0.0s\n",
            "[CV 2/5] END .......................alpha=0.001;, score=0.819 total time=   0.0s\n",
            "[CV 3/5] END .......................alpha=0.001;, score=0.815 total time=   0.0s\n",
            "[CV 4/5] END .......................alpha=0.001;, score=0.809 total time=   0.0s\n",
            "[CV 5/5] END .......................alpha=0.001;, score=0.813 total time=   0.0s\n",
            "[CV 1/5] END ......................alpha=0.0001;, score=0.820 total time=   0.0s\n",
            "[CV 2/5] END ......................alpha=0.0001;, score=0.817 total time=   0.0s\n",
            "[CV 3/5] END ......................alpha=0.0001;, score=0.812 total time=   0.0s\n",
            "[CV 4/5] END ......................alpha=0.0001;, score=0.805 total time=   0.0s\n",
            "[CV 5/5] END ......................alpha=0.0001;, score=0.807 total time=   0.0s\n",
            "{'alpha': 0.1}\n",
            "Accuracy Score:  0.8371757925072046\n"
          ]
        }
      ]
    },
    {
      "cell_type": "code",
      "source": [
        "# SVM with GridSearch\n",
        "X = df['tweet']\n",
        "Y = df['class']\n",
        "cv = TfidfVectorizer(lowercase=True)\n",
        "X = cv.fit_transform(X)\n",
        "size = X.shape[0]\n",
        "params = {'C': [0.1,1,10,100,1000],\n",
        "         'gamma': [1,0.1,0.01,0.001,0.0001],\n",
        "         'kernel': ['rbf','linear','poly'],\n",
        "          }\n",
        "train_X, test_X, train_Y, test_Y = train_test_split(X,Y,train_size=max_index/100)\n",
        "search = GridSearchCV(SVC(),params,refit=True,verbose=3)\n",
        "search.fit(train_X,train_Y)\n",
        "pred_y = search.predict(test_X)\n",
        "print(\"Accuracy: \",metrics.accuracy_score(pred_y,test_Y))\n",
        "print(\"The Best Parameters being: \",search.best_params_)"
      ],
      "metadata": {
        "id": "A4qYDsxdlwxQ"
      },
      "execution_count": null,
      "outputs": []
    },
    {
      "cell_type": "code",
      "source": [
        "# KNN with GridSearch\n",
        "train_X, test_X, train_Y, test_Y = train_test_split(X,Y,test_size=0.15)\n",
        "sc=StandardScaler()\n",
        "lst= range(1,200,2)\n",
        "params3 = {'n_neighbors': lst}\n",
        "grid = GridSearchCV(KNeighborsClassifier(), params3, cv=3, scoring='accuracy',verbose=3)\n",
        "grid.fit(train_X,train_Y)\n",
        "grid.best_params_\n",
        "pred_y = grid.predict(test_X)\n",
        "print(metrics.accuracy_score(pred_y,test_Y))"
      ],
      "metadata": {
        "colab": {
          "base_uri": "https://localhost:8080/"
        },
        "id": "E21EqcytgUC_",
        "outputId": "56ae4427-abb8-4f07-8406-83e4c1111e25"
      },
      "execution_count": null,
      "outputs": [
        {
          "output_type": "stream",
          "name": "stdout",
          "text": [
            "Fitting 3 folds for each of 100 candidates, totalling 300 fits\n",
            "[CV 1/3] END .....................n_neighbors=1;, score=0.782 total time=   2.2s\n",
            "[CV 2/3] END .....................n_neighbors=1;, score=0.770 total time=   2.1s\n",
            "[CV 3/3] END .....................n_neighbors=1;, score=0.773 total time=   2.3s\n",
            "[CV 1/3] END .....................n_neighbors=3;, score=0.806 total time=   2.6s\n",
            "[CV 2/3] END .....................n_neighbors=3;, score=0.795 total time=   4.7s\n",
            "[CV 3/3] END .....................n_neighbors=3;, score=0.808 total time=   2.6s\n",
            "[CV 1/3] END .....................n_neighbors=5;, score=0.812 total time=   3.1s\n",
            "[CV 2/3] END .....................n_neighbors=5;, score=0.808 total time=   3.0s\n",
            "[CV 3/3] END .....................n_neighbors=5;, score=0.814 total time=   3.1s\n",
            "[CV 1/3] END .....................n_neighbors=7;, score=0.816 total time=   3.0s\n",
            "[CV 2/3] END .....................n_neighbors=7;, score=0.808 total time=   3.0s\n",
            "[CV 3/3] END .....................n_neighbors=7;, score=0.810 total time=   3.1s\n",
            "[CV 1/3] END .....................n_neighbors=9;, score=0.813 total time=   3.0s\n",
            "[CV 2/3] END .....................n_neighbors=9;, score=0.807 total time=   3.0s\n",
            "[CV 3/3] END .....................n_neighbors=9;, score=0.808 total time=   3.1s\n",
            "[CV 1/3] END ....................n_neighbors=11;, score=0.813 total time=   3.1s\n",
            "[CV 2/3] END ....................n_neighbors=11;, score=0.805 total time=   3.0s\n",
            "[CV 3/3] END ....................n_neighbors=11;, score=0.805 total time=   3.1s\n",
            "[CV 1/3] END ....................n_neighbors=13;, score=0.809 total time=   3.1s\n",
            "[CV 2/3] END ....................n_neighbors=13;, score=0.805 total time=   3.0s\n",
            "[CV 3/3] END ....................n_neighbors=13;, score=0.804 total time=   3.1s\n",
            "[CV 1/3] END ....................n_neighbors=15;, score=0.808 total time=   3.1s\n",
            "[CV 2/3] END ....................n_neighbors=15;, score=0.804 total time=   3.0s\n",
            "[CV 3/3] END ....................n_neighbors=15;, score=0.805 total time=   3.1s\n",
            "[CV 1/3] END ....................n_neighbors=17;, score=0.807 total time=   3.1s\n",
            "[CV 2/3] END ....................n_neighbors=17;, score=0.803 total time=   3.0s\n",
            "[CV 3/3] END ....................n_neighbors=17;, score=0.803 total time=   3.1s\n",
            "[CV 1/3] END ....................n_neighbors=19;, score=0.805 total time=   3.1s\n",
            "[CV 2/3] END ....................n_neighbors=19;, score=0.799 total time=   3.1s\n",
            "[CV 3/3] END ....................n_neighbors=19;, score=0.802 total time=   3.2s\n",
            "[CV 1/3] END ....................n_neighbors=21;, score=0.805 total time=   3.1s\n",
            "[CV 2/3] END ....................n_neighbors=21;, score=0.799 total time=   3.1s\n",
            "[CV 3/3] END ....................n_neighbors=21;, score=0.800 total time=   3.1s\n",
            "[CV 1/3] END ....................n_neighbors=23;, score=0.804 total time=   3.1s\n",
            "[CV 2/3] END ....................n_neighbors=23;, score=0.799 total time=   3.1s\n",
            "[CV 3/3] END ....................n_neighbors=23;, score=0.799 total time=   3.2s\n",
            "[CV 1/3] END ....................n_neighbors=25;, score=0.803 total time=   3.1s\n",
            "[CV 2/3] END ....................n_neighbors=25;, score=0.799 total time=   3.1s\n",
            "[CV 3/3] END ....................n_neighbors=25;, score=0.798 total time=   3.2s\n",
            "[CV 1/3] END ....................n_neighbors=27;, score=0.803 total time=   3.1s\n",
            "[CV 2/3] END ....................n_neighbors=27;, score=0.797 total time=   3.1s\n",
            "[CV 3/3] END ....................n_neighbors=27;, score=0.797 total time=   3.2s\n",
            "[CV 1/3] END ....................n_neighbors=29;, score=0.802 total time=   3.1s\n",
            "[CV 2/3] END ....................n_neighbors=29;, score=0.797 total time=   3.1s\n",
            "[CV 3/3] END ....................n_neighbors=29;, score=0.796 total time=   3.2s\n",
            "[CV 1/3] END ....................n_neighbors=31;, score=0.801 total time=   3.1s\n",
            "[CV 2/3] END ....................n_neighbors=31;, score=0.797 total time=   3.1s\n",
            "[CV 3/3] END ....................n_neighbors=31;, score=0.794 total time=   3.2s\n",
            "[CV 1/3] END ....................n_neighbors=33;, score=0.800 total time=   3.1s\n",
            "[CV 2/3] END ....................n_neighbors=33;, score=0.796 total time=   3.1s\n",
            "[CV 3/3] END ....................n_neighbors=33;, score=0.795 total time=   3.2s\n",
            "[CV 1/3] END ....................n_neighbors=35;, score=0.800 total time=   3.1s\n",
            "[CV 2/3] END ....................n_neighbors=35;, score=0.796 total time=   3.1s\n",
            "[CV 3/3] END ....................n_neighbors=35;, score=0.794 total time=   3.2s\n",
            "[CV 1/3] END ....................n_neighbors=37;, score=0.798 total time=   3.1s\n",
            "[CV 2/3] END ....................n_neighbors=37;, score=0.797 total time=   3.1s\n",
            "[CV 3/3] END ....................n_neighbors=37;, score=0.793 total time=   3.2s\n",
            "[CV 1/3] END ....................n_neighbors=39;, score=0.796 total time=   3.1s\n",
            "[CV 2/3] END ....................n_neighbors=39;, score=0.797 total time=   3.1s\n",
            "[CV 3/3] END ....................n_neighbors=39;, score=0.792 total time=   3.2s\n",
            "[CV 1/3] END ....................n_neighbors=41;, score=0.796 total time=   3.1s\n",
            "[CV 2/3] END ....................n_neighbors=41;, score=0.796 total time=   3.1s\n",
            "[CV 3/3] END ....................n_neighbors=41;, score=0.792 total time=   3.2s\n",
            "[CV 1/3] END ....................n_neighbors=43;, score=0.795 total time=   3.1s\n",
            "[CV 2/3] END ....................n_neighbors=43;, score=0.794 total time=   3.1s\n",
            "[CV 3/3] END ....................n_neighbors=43;, score=0.792 total time=   3.2s\n",
            "[CV 1/3] END ....................n_neighbors=45;, score=0.795 total time=   3.1s\n",
            "[CV 2/3] END ....................n_neighbors=45;, score=0.794 total time=   3.1s\n",
            "[CV 3/3] END ....................n_neighbors=45;, score=0.792 total time=   3.2s\n",
            "[CV 1/3] END ....................n_neighbors=47;, score=0.795 total time=   3.1s\n",
            "[CV 2/3] END ....................n_neighbors=47;, score=0.795 total time=   3.1s\n",
            "[CV 3/3] END ....................n_neighbors=47;, score=0.790 total time=   3.2s\n",
            "[CV 1/3] END ....................n_neighbors=49;, score=0.794 total time=   3.1s\n",
            "[CV 2/3] END ....................n_neighbors=49;, score=0.793 total time=   3.1s\n",
            "[CV 3/3] END ....................n_neighbors=49;, score=0.790 total time=   3.2s\n",
            "[CV 1/3] END ....................n_neighbors=51;, score=0.794 total time=   3.1s\n",
            "[CV 2/3] END ....................n_neighbors=51;, score=0.793 total time=   3.1s\n",
            "[CV 3/3] END ....................n_neighbors=51;, score=0.789 total time=   3.2s\n",
            "[CV 1/3] END ....................n_neighbors=53;, score=0.794 total time=   3.1s\n",
            "[CV 2/3] END ....................n_neighbors=53;, score=0.791 total time=   3.1s\n",
            "[CV 3/3] END ....................n_neighbors=53;, score=0.789 total time=   3.2s\n",
            "[CV 1/3] END ....................n_neighbors=55;, score=0.793 total time=   3.1s\n",
            "[CV 2/3] END ....................n_neighbors=55;, score=0.792 total time=   3.1s\n",
            "[CV 3/3] END ....................n_neighbors=55;, score=0.789 total time=   3.2s\n",
            "[CV 1/3] END ....................n_neighbors=57;, score=0.793 total time=   3.1s\n",
            "[CV 2/3] END ....................n_neighbors=57;, score=0.791 total time=   3.1s\n",
            "[CV 3/3] END ....................n_neighbors=57;, score=0.788 total time=   3.2s\n",
            "[CV 1/3] END ....................n_neighbors=59;, score=0.792 total time=   3.1s\n",
            "[CV 2/3] END ....................n_neighbors=59;, score=0.791 total time=   3.1s\n",
            "[CV 3/3] END ....................n_neighbors=59;, score=0.789 total time=   3.2s\n",
            "[CV 1/3] END ....................n_neighbors=61;, score=0.792 total time=   3.1s\n",
            "[CV 2/3] END ....................n_neighbors=61;, score=0.790 total time=   3.1s\n",
            "[CV 3/3] END ....................n_neighbors=61;, score=0.789 total time=   3.2s\n",
            "[CV 1/3] END ....................n_neighbors=63;, score=0.791 total time=   3.1s\n",
            "[CV 2/3] END ....................n_neighbors=63;, score=0.791 total time=   3.1s\n",
            "[CV 3/3] END ....................n_neighbors=63;, score=0.789 total time=   3.2s\n",
            "[CV 1/3] END ....................n_neighbors=65;, score=0.791 total time=   3.1s\n",
            "[CV 2/3] END ....................n_neighbors=65;, score=0.791 total time=   3.1s\n",
            "[CV 3/3] END ....................n_neighbors=65;, score=0.788 total time=   3.2s\n",
            "[CV 1/3] END ....................n_neighbors=67;, score=0.791 total time=   3.1s\n",
            "[CV 2/3] END ....................n_neighbors=67;, score=0.789 total time=   3.1s\n",
            "[CV 3/3] END ....................n_neighbors=67;, score=0.788 total time=   3.2s\n",
            "[CV 1/3] END ....................n_neighbors=69;, score=0.791 total time=   3.1s\n",
            "[CV 2/3] END ....................n_neighbors=69;, score=0.790 total time=   3.1s\n",
            "[CV 3/3] END ....................n_neighbors=69;, score=0.788 total time=   3.2s\n",
            "[CV 1/3] END ....................n_neighbors=71;, score=0.791 total time=   3.1s\n",
            "[CV 2/3] END ....................n_neighbors=71;, score=0.790 total time=   3.1s\n",
            "[CV 3/3] END ....................n_neighbors=71;, score=0.787 total time=   3.2s\n",
            "[CV 1/3] END ....................n_neighbors=73;, score=0.791 total time=   3.2s\n",
            "[CV 2/3] END ....................n_neighbors=73;, score=0.789 total time=   3.1s\n",
            "[CV 3/3] END ....................n_neighbors=73;, score=0.788 total time=   3.2s\n",
            "[CV 1/3] END ....................n_neighbors=75;, score=0.790 total time=   3.2s\n",
            "[CV 2/3] END ....................n_neighbors=75;, score=0.790 total time=   3.1s\n",
            "[CV 3/3] END ....................n_neighbors=75;, score=0.788 total time=   3.2s\n",
            "[CV 1/3] END ....................n_neighbors=77;, score=0.791 total time=   3.1s\n",
            "[CV 2/3] END ....................n_neighbors=77;, score=0.790 total time=   3.1s\n",
            "[CV 3/3] END ....................n_neighbors=77;, score=0.787 total time=   3.2s\n",
            "[CV 1/3] END ....................n_neighbors=79;, score=0.791 total time=   3.1s\n",
            "[CV 2/3] END ....................n_neighbors=79;, score=0.789 total time=   3.1s\n",
            "[CV 3/3] END ....................n_neighbors=79;, score=0.787 total time=   3.2s\n",
            "[CV 1/3] END ....................n_neighbors=81;, score=0.790 total time=   3.1s\n",
            "[CV 2/3] END ....................n_neighbors=81;, score=0.789 total time=   3.1s\n",
            "[CV 3/3] END ....................n_neighbors=81;, score=0.786 total time=   3.2s\n",
            "[CV 1/3] END ....................n_neighbors=83;, score=0.790 total time=   3.1s\n",
            "[CV 2/3] END ....................n_neighbors=83;, score=0.789 total time=   3.1s\n",
            "[CV 3/3] END ....................n_neighbors=83;, score=0.786 total time=   3.2s\n",
            "[CV 1/3] END ....................n_neighbors=85;, score=0.790 total time=   3.1s\n",
            "[CV 2/3] END ....................n_neighbors=85;, score=0.788 total time=   3.1s\n",
            "[CV 3/3] END ....................n_neighbors=85;, score=0.786 total time=   3.2s\n",
            "[CV 1/3] END ....................n_neighbors=87;, score=0.790 total time=   3.1s\n",
            "[CV 2/3] END ....................n_neighbors=87;, score=0.789 total time=   3.1s\n",
            "[CV 3/3] END ....................n_neighbors=87;, score=0.787 total time=   3.2s\n",
            "[CV 1/3] END ....................n_neighbors=89;, score=0.790 total time=   3.1s\n",
            "[CV 2/3] END ....................n_neighbors=89;, score=0.788 total time=   3.1s\n",
            "[CV 3/3] END ....................n_neighbors=89;, score=0.786 total time=   3.2s\n",
            "[CV 1/3] END ....................n_neighbors=91;, score=0.790 total time=   3.1s\n",
            "[CV 2/3] END ....................n_neighbors=91;, score=0.788 total time=   3.1s\n",
            "[CV 3/3] END ....................n_neighbors=91;, score=0.786 total time=   3.2s\n",
            "[CV 1/3] END ....................n_neighbors=93;, score=0.789 total time=   3.2s\n",
            "[CV 2/3] END ....................n_neighbors=93;, score=0.788 total time=   3.1s\n",
            "[CV 3/3] END ....................n_neighbors=93;, score=0.786 total time=   3.2s\n",
            "[CV 1/3] END ....................n_neighbors=95;, score=0.789 total time=   3.1s\n",
            "[CV 2/3] END ....................n_neighbors=95;, score=0.787 total time=   3.2s\n",
            "[CV 3/3] END ....................n_neighbors=95;, score=0.786 total time=   3.2s\n",
            "[CV 1/3] END ....................n_neighbors=97;, score=0.789 total time=   3.2s\n",
            "[CV 2/3] END ....................n_neighbors=97;, score=0.787 total time=   3.1s\n",
            "[CV 3/3] END ....................n_neighbors=97;, score=0.787 total time=   3.2s\n",
            "[CV 1/3] END ....................n_neighbors=99;, score=0.788 total time=   3.2s\n",
            "[CV 2/3] END ....................n_neighbors=99;, score=0.787 total time=   3.1s\n",
            "[CV 3/3] END ....................n_neighbors=99;, score=0.786 total time=   3.2s\n",
            "[CV 1/3] END ...................n_neighbors=101;, score=0.788 total time=   3.2s\n",
            "[CV 2/3] END ...................n_neighbors=101;, score=0.787 total time=   3.2s\n",
            "[CV 3/3] END ...................n_neighbors=101;, score=0.786 total time=   3.2s\n",
            "[CV 1/3] END ...................n_neighbors=103;, score=0.787 total time=   3.2s\n",
            "[CV 2/3] END ...................n_neighbors=103;, score=0.787 total time=   3.2s\n",
            "[CV 3/3] END ...................n_neighbors=103;, score=0.786 total time=   3.2s\n",
            "[CV 1/3] END ...................n_neighbors=105;, score=0.787 total time=   3.2s\n",
            "[CV 2/3] END ...................n_neighbors=105;, score=0.787 total time=   3.2s\n",
            "[CV 3/3] END ...................n_neighbors=105;, score=0.786 total time=   3.2s\n",
            "[CV 1/3] END ...................n_neighbors=107;, score=0.787 total time=   3.2s\n",
            "[CV 2/3] END ...................n_neighbors=107;, score=0.787 total time=   3.1s\n",
            "[CV 3/3] END ...................n_neighbors=107;, score=0.786 total time=   3.2s\n",
            "[CV 1/3] END ...................n_neighbors=109;, score=0.787 total time=   3.2s\n",
            "[CV 2/3] END ...................n_neighbors=109;, score=0.787 total time=   3.2s\n",
            "[CV 3/3] END ...................n_neighbors=109;, score=0.786 total time=   3.2s\n",
            "[CV 1/3] END ...................n_neighbors=111;, score=0.787 total time=   3.2s\n",
            "[CV 2/3] END ...................n_neighbors=111;, score=0.787 total time=   3.2s\n",
            "[CV 3/3] END ...................n_neighbors=111;, score=0.787 total time=   3.2s\n",
            "[CV 1/3] END ...................n_neighbors=113;, score=0.787 total time=   3.2s\n",
            "[CV 2/3] END ...................n_neighbors=113;, score=0.787 total time=   3.2s\n",
            "[CV 3/3] END ...................n_neighbors=113;, score=0.787 total time=   3.2s\n",
            "[CV 1/3] END ...................n_neighbors=115;, score=0.787 total time=   3.2s\n",
            "[CV 2/3] END ...................n_neighbors=115;, score=0.786 total time=   3.2s\n",
            "[CV 3/3] END ...................n_neighbors=115;, score=0.786 total time=   3.2s\n",
            "[CV 1/3] END ...................n_neighbors=117;, score=0.787 total time=   3.2s\n",
            "[CV 2/3] END ...................n_neighbors=117;, score=0.786 total time=   3.2s\n",
            "[CV 3/3] END ...................n_neighbors=117;, score=0.786 total time=   3.2s\n",
            "[CV 1/3] END ...................n_neighbors=119;, score=0.786 total time=   3.2s\n",
            "[CV 2/3] END ...................n_neighbors=119;, score=0.786 total time=   3.2s\n",
            "[CV 3/3] END ...................n_neighbors=119;, score=0.786 total time=   3.2s\n",
            "[CV 1/3] END ...................n_neighbors=121;, score=0.786 total time=   3.2s\n",
            "[CV 2/3] END ...................n_neighbors=121;, score=0.786 total time=   3.2s\n",
            "[CV 3/3] END ...................n_neighbors=121;, score=0.786 total time=   3.3s\n",
            "[CV 1/3] END ...................n_neighbors=123;, score=0.786 total time=   3.2s\n",
            "[CV 2/3] END ...................n_neighbors=123;, score=0.785 total time=   3.2s\n",
            "[CV 3/3] END ...................n_neighbors=123;, score=0.786 total time=   3.2s\n",
            "[CV 1/3] END ...................n_neighbors=125;, score=0.786 total time=   3.2s\n",
            "[CV 2/3] END ...................n_neighbors=125;, score=0.786 total time=   3.2s\n",
            "[CV 3/3] END ...................n_neighbors=125;, score=0.785 total time=   3.2s\n",
            "[CV 1/3] END ...................n_neighbors=127;, score=0.786 total time=   3.2s\n",
            "[CV 2/3] END ...................n_neighbors=127;, score=0.785 total time=   3.2s\n",
            "[CV 3/3] END ...................n_neighbors=127;, score=0.785 total time=   3.2s\n",
            "[CV 1/3] END ...................n_neighbors=129;, score=0.786 total time=   3.2s\n",
            "[CV 2/3] END ...................n_neighbors=129;, score=0.785 total time=   3.2s\n",
            "[CV 3/3] END ...................n_neighbors=129;, score=0.786 total time=   3.2s\n",
            "[CV 1/3] END ...................n_neighbors=131;, score=0.786 total time=   3.3s\n",
            "[CV 2/3] END ...................n_neighbors=131;, score=0.786 total time=   3.5s\n",
            "[CV 3/3] END ...................n_neighbors=131;, score=0.785 total time=   4.9s\n",
            "[CV 1/3] END ...................n_neighbors=133;, score=0.786 total time=   3.8s\n",
            "[CV 2/3] END ...................n_neighbors=133;, score=0.785 total time=   3.3s\n",
            "[CV 3/3] END ...................n_neighbors=133;, score=0.786 total time=   3.3s\n",
            "[CV 1/3] END ...................n_neighbors=135;, score=0.786 total time=   3.3s\n",
            "[CV 2/3] END ...................n_neighbors=135;, score=0.785 total time=   3.3s\n",
            "[CV 3/3] END ...................n_neighbors=135;, score=0.785 total time=   3.3s\n",
            "[CV 1/3] END ...................n_neighbors=137;, score=0.786 total time=   3.3s\n",
            "[CV 2/3] END ...................n_neighbors=137;, score=0.785 total time=   3.3s\n",
            "[CV 3/3] END ...................n_neighbors=137;, score=0.785 total time=   3.4s\n",
            "[CV 1/3] END ...................n_neighbors=139;, score=0.786 total time=   3.3s\n",
            "[CV 2/3] END ...................n_neighbors=139;, score=0.785 total time=   3.3s\n",
            "[CV 3/3] END ...................n_neighbors=139;, score=0.785 total time=   3.4s\n",
            "[CV 1/3] END ...................n_neighbors=141;, score=0.786 total time=   3.3s\n",
            "[CV 2/3] END ...................n_neighbors=141;, score=0.785 total time=   3.3s\n",
            "[CV 3/3] END ...................n_neighbors=141;, score=0.785 total time=   3.3s\n",
            "[CV 1/3] END ...................n_neighbors=143;, score=0.786 total time=   3.3s\n",
            "[CV 2/3] END ...................n_neighbors=143;, score=0.785 total time=   3.3s\n",
            "[CV 3/3] END ...................n_neighbors=143;, score=0.785 total time=   3.4s\n",
            "[CV 1/3] END ...................n_neighbors=145;, score=0.786 total time=   3.3s\n",
            "[CV 2/3] END ...................n_neighbors=145;, score=0.785 total time=   3.3s\n",
            "[CV 3/3] END ...................n_neighbors=145;, score=0.785 total time=   3.4s\n",
            "[CV 1/3] END ...................n_neighbors=147;, score=0.786 total time=   3.3s\n",
            "[CV 2/3] END ...................n_neighbors=147;, score=0.785 total time=   3.3s\n",
            "[CV 3/3] END ...................n_neighbors=147;, score=0.785 total time=   3.4s\n",
            "[CV 1/3] END ...................n_neighbors=149;, score=0.786 total time=   3.3s\n",
            "[CV 2/3] END ...................n_neighbors=149;, score=0.785 total time=   3.3s\n",
            "[CV 3/3] END ...................n_neighbors=149;, score=0.785 total time=   3.4s\n",
            "[CV 1/3] END ...................n_neighbors=151;, score=0.786 total time=   3.3s\n",
            "[CV 2/3] END ...................n_neighbors=151;, score=0.785 total time=   3.3s\n",
            "[CV 3/3] END ...................n_neighbors=151;, score=0.785 total time=   3.4s\n",
            "[CV 1/3] END ...................n_neighbors=153;, score=0.786 total time=   3.3s\n",
            "[CV 2/3] END ...................n_neighbors=153;, score=0.784 total time=   3.3s\n",
            "[CV 3/3] END ...................n_neighbors=153;, score=0.785 total time=   3.4s\n",
            "[CV 1/3] END ...................n_neighbors=155;, score=0.785 total time=   3.3s\n",
            "[CV 2/3] END ...................n_neighbors=155;, score=0.784 total time=   3.3s\n",
            "[CV 3/3] END ...................n_neighbors=155;, score=0.785 total time=   3.4s\n",
            "[CV 1/3] END ...................n_neighbors=157;, score=0.785 total time=   3.3s\n",
            "[CV 2/3] END ...................n_neighbors=157;, score=0.784 total time=   3.3s\n",
            "[CV 3/3] END ...................n_neighbors=157;, score=0.785 total time=   3.4s\n",
            "[CV 1/3] END ...................n_neighbors=159;, score=0.786 total time=   3.3s\n",
            "[CV 2/3] END ...................n_neighbors=159;, score=0.784 total time=   3.3s\n",
            "[CV 3/3] END ...................n_neighbors=159;, score=0.785 total time=   3.4s\n",
            "[CV 1/3] END ...................n_neighbors=161;, score=0.786 total time=   3.3s\n",
            "[CV 2/3] END ...................n_neighbors=161;, score=0.784 total time=   3.3s\n",
            "[CV 3/3] END ...................n_neighbors=161;, score=0.785 total time=   3.4s\n",
            "[CV 1/3] END ...................n_neighbors=163;, score=0.786 total time=   3.3s\n",
            "[CV 2/3] END ...................n_neighbors=163;, score=0.784 total time=   3.3s\n",
            "[CV 3/3] END ...................n_neighbors=163;, score=0.785 total time=   3.4s\n",
            "[CV 1/3] END ...................n_neighbors=165;, score=0.786 total time=   3.3s\n",
            "[CV 2/3] END ...................n_neighbors=165;, score=0.784 total time=   3.3s\n",
            "[CV 3/3] END ...................n_neighbors=165;, score=0.785 total time=   3.4s\n",
            "[CV 1/3] END ...................n_neighbors=167;, score=0.785 total time=   3.3s\n",
            "[CV 2/3] END ...................n_neighbors=167;, score=0.784 total time=   3.3s\n",
            "[CV 3/3] END ...................n_neighbors=167;, score=0.784 total time=   3.4s\n",
            "[CV 1/3] END ...................n_neighbors=169;, score=0.784 total time=   3.3s\n",
            "[CV 2/3] END ...................n_neighbors=169;, score=0.784 total time=   3.3s\n",
            "[CV 3/3] END ...................n_neighbors=169;, score=0.785 total time=   3.5s\n",
            "[CV 1/3] END ...................n_neighbors=171;, score=0.784 total time=   3.3s\n",
            "[CV 2/3] END ...................n_neighbors=171;, score=0.784 total time=   3.3s\n",
            "[CV 3/3] END ...................n_neighbors=171;, score=0.785 total time=   3.4s\n",
            "[CV 1/3] END ...................n_neighbors=173;, score=0.785 total time=   3.3s\n",
            "[CV 2/3] END ...................n_neighbors=173;, score=0.784 total time=   3.3s\n",
            "[CV 3/3] END ...................n_neighbors=173;, score=0.785 total time=   3.4s\n",
            "[CV 1/3] END ...................n_neighbors=175;, score=0.785 total time=   3.3s\n",
            "[CV 2/3] END ...................n_neighbors=175;, score=0.784 total time=   3.3s\n",
            "[CV 3/3] END ...................n_neighbors=175;, score=0.785 total time=   3.4s\n",
            "[CV 1/3] END ...................n_neighbors=177;, score=0.785 total time=   3.3s\n",
            "[CV 2/3] END ...................n_neighbors=177;, score=0.784 total time=   3.3s\n",
            "[CV 3/3] END ...................n_neighbors=177;, score=0.785 total time=   4.0s\n",
            "[CV 1/3] END ...................n_neighbors=179;, score=0.784 total time=   3.4s\n",
            "[CV 2/3] END ...................n_neighbors=179;, score=0.783 total time=   3.3s\n",
            "[CV 3/3] END ...................n_neighbors=179;, score=0.785 total time=   3.4s\n",
            "[CV 1/3] END ...................n_neighbors=181;, score=0.785 total time=   3.3s\n",
            "[CV 2/3] END ...................n_neighbors=181;, score=0.783 total time=   3.3s\n",
            "[CV 3/3] END ...................n_neighbors=181;, score=0.784 total time=   3.4s\n",
            "[CV 1/3] END ...................n_neighbors=183;, score=0.784 total time=   3.3s\n",
            "[CV 2/3] END ...................n_neighbors=183;, score=0.784 total time=   3.3s\n",
            "[CV 3/3] END ...................n_neighbors=183;, score=0.784 total time=   3.4s\n",
            "[CV 1/3] END ...................n_neighbors=185;, score=0.785 total time=   3.3s\n",
            "[CV 2/3] END ...................n_neighbors=185;, score=0.784 total time=   3.3s\n",
            "[CV 3/3] END ...................n_neighbors=185;, score=0.784 total time=   3.4s\n",
            "[CV 1/3] END ...................n_neighbors=187;, score=0.785 total time=   3.3s\n",
            "[CV 2/3] END ...................n_neighbors=187;, score=0.783 total time=   3.3s\n",
            "[CV 3/3] END ...................n_neighbors=187;, score=0.784 total time=   3.4s\n",
            "[CV 1/3] END ...................n_neighbors=189;, score=0.785 total time=   3.3s\n",
            "[CV 2/3] END ...................n_neighbors=189;, score=0.783 total time=   3.3s\n",
            "[CV 3/3] END ...................n_neighbors=189;, score=0.784 total time=   3.4s\n",
            "[CV 1/3] END ...................n_neighbors=191;, score=0.785 total time=   3.3s\n",
            "[CV 2/3] END ...................n_neighbors=191;, score=0.783 total time=   3.3s\n",
            "[CV 3/3] END ...................n_neighbors=191;, score=0.784 total time=   3.4s\n",
            "[CV 1/3] END ...................n_neighbors=193;, score=0.785 total time=   3.4s\n",
            "[CV 2/3] END ...................n_neighbors=193;, score=0.783 total time=   3.3s\n",
            "[CV 3/3] END ...................n_neighbors=193;, score=0.784 total time=   3.4s\n",
            "[CV 1/3] END ...................n_neighbors=195;, score=0.785 total time=   3.3s\n",
            "[CV 2/3] END ...................n_neighbors=195;, score=0.783 total time=   3.3s\n",
            "[CV 3/3] END ...................n_neighbors=195;, score=0.784 total time=   3.4s\n",
            "[CV 1/3] END ...................n_neighbors=197;, score=0.785 total time=   3.4s\n",
            "[CV 2/3] END ...................n_neighbors=197;, score=0.783 total time=   3.3s\n",
            "[CV 3/3] END ...................n_neighbors=197;, score=0.783 total time=   3.4s\n",
            "[CV 1/3] END ...................n_neighbors=199;, score=0.785 total time=   3.3s\n",
            "[CV 2/3] END ...................n_neighbors=199;, score=0.783 total time=   3.3s\n",
            "[CV 3/3] END ...................n_neighbors=199;, score=0.783 total time=   3.4s\n",
            "0.8294782140935987\n"
          ]
        }
      ]
    },
    {
      "cell_type": "code",
      "source": [
        "# ANN using Grid Search\n",
        "X = df['tweet']\n",
        "Y = df['class']\n",
        "cv = TfidfVectorizer(lowercase=True)\n",
        "X = cv.fit_transform(X)\n",
        "train_X, test_X, train_Y, test_Y = train_test_split(X,Y,train_size=0.85)\n",
        "size = X.shape[0]\n",
        "acc = []\n",
        "test_sequence=[]\n",
        "params4 = {'solver': ['lbfgs', 'sgd', 'adam'], 'hidden_layer_sizes':[(4), (5,),(6,), (7,)],'activation':['identity', 'logistic', 'tanh', 'relu']}\n",
        "grid = GridSearchCV(MLPClassifier(), params4, cv=3, scoring='accuracy',verbose=3)\n",
        "grid.fit(train_X,train_Y)\n",
        "pred_y = grid.predict(test_X)\n",
        "print(metrics.accuracy_score(pred_y,test_Y))\n",
        "grid.best_params_"
      ],
      "metadata": {
        "colab": {
          "base_uri": "https://localhost:8080/"
        },
        "id": "jqTKVe4riqK5",
        "outputId": "ae95e12a-1ee6-4a33-adba-4f07eff24f2e"
      },
      "execution_count": null,
      "outputs": [
        {
          "output_type": "stream",
          "name": "stdout",
          "text": [
            "Fitting 3 folds for each of 48 candidates, totalling 144 fits\n",
            "[CV 1/3] END activation=identity, hidden_layer_sizes=4, solver=lbfgs;, score=0.888 total time=   5.7s\n",
            "[CV 2/3] END activation=identity, hidden_layer_sizes=4, solver=lbfgs;, score=0.884 total time=   5.8s\n",
            "[CV 3/3] END activation=identity, hidden_layer_sizes=4, solver=lbfgs;, score=0.880 total time=   9.2s\n"
          ]
        },
        {
          "output_type": "stream",
          "name": "stderr",
          "text": [
            "/usr/local/lib/python3.7/dist-packages/sklearn/neural_network/_multilayer_perceptron.py:696: ConvergenceWarning: Stochastic Optimizer: Maximum iterations (200) reached and the optimization hasn't converged yet.\n",
            "  ConvergenceWarning,\n"
          ]
        },
        {
          "output_type": "stream",
          "name": "stdout",
          "text": [
            "[CV 1/3] END activation=identity, hidden_layer_sizes=4, solver=sgd;, score=0.851 total time=  48.7s\n"
          ]
        },
        {
          "output_type": "stream",
          "name": "stderr",
          "text": [
            "/usr/local/lib/python3.7/dist-packages/sklearn/neural_network/_multilayer_perceptron.py:696: ConvergenceWarning: Stochastic Optimizer: Maximum iterations (200) reached and the optimization hasn't converged yet.\n",
            "  ConvergenceWarning,\n"
          ]
        },
        {
          "output_type": "stream",
          "name": "stdout",
          "text": [
            "[CV 2/3] END activation=identity, hidden_layer_sizes=4, solver=sgd;, score=0.846 total time=  51.7s\n"
          ]
        },
        {
          "output_type": "stream",
          "name": "stderr",
          "text": [
            "/usr/local/lib/python3.7/dist-packages/sklearn/neural_network/_multilayer_perceptron.py:696: ConvergenceWarning: Stochastic Optimizer: Maximum iterations (200) reached and the optimization hasn't converged yet.\n",
            "  ConvergenceWarning,\n"
          ]
        },
        {
          "output_type": "stream",
          "name": "stdout",
          "text": [
            "[CV 3/3] END activation=identity, hidden_layer_sizes=4, solver=sgd;, score=0.835 total time=  49.6s\n",
            "[CV 1/3] END activation=identity, hidden_layer_sizes=4, solver=adam;, score=0.859 total time=  36.4s\n",
            "[CV 2/3] END activation=identity, hidden_layer_sizes=4, solver=adam;, score=0.847 total time=  35.9s\n",
            "[CV 3/3] END activation=identity, hidden_layer_sizes=4, solver=adam;, score=0.846 total time=  40.8s\n",
            "[CV 1/3] END activation=identity, hidden_layer_sizes=(5,), solver=lbfgs;, score=0.883 total time=   9.2s\n",
            "[CV 2/3] END activation=identity, hidden_layer_sizes=(5,), solver=lbfgs;, score=0.872 total time=   9.6s\n",
            "[CV 3/3] END activation=identity, hidden_layer_sizes=(5,), solver=lbfgs;, score=0.881 total time=   6.2s\n"
          ]
        },
        {
          "output_type": "stream",
          "name": "stderr",
          "text": [
            "/usr/local/lib/python3.7/dist-packages/sklearn/neural_network/_multilayer_perceptron.py:696: ConvergenceWarning: Stochastic Optimizer: Maximum iterations (200) reached and the optimization hasn't converged yet.\n",
            "  ConvergenceWarning,\n"
          ]
        },
        {
          "output_type": "stream",
          "name": "stdout",
          "text": [
            "[CV 1/3] END activation=identity, hidden_layer_sizes=(5,), solver=sgd;, score=0.831 total time=  56.0s\n"
          ]
        },
        {
          "output_type": "stream",
          "name": "stderr",
          "text": [
            "/usr/local/lib/python3.7/dist-packages/sklearn/neural_network/_multilayer_perceptron.py:696: ConvergenceWarning: Stochastic Optimizer: Maximum iterations (200) reached and the optimization hasn't converged yet.\n",
            "  ConvergenceWarning,\n"
          ]
        },
        {
          "output_type": "stream",
          "name": "stdout",
          "text": [
            "[CV 2/3] END activation=identity, hidden_layer_sizes=(5,), solver=sgd;, score=0.841 total time=  55.8s\n"
          ]
        },
        {
          "output_type": "stream",
          "name": "stderr",
          "text": [
            "/usr/local/lib/python3.7/dist-packages/sklearn/neural_network/_multilayer_perceptron.py:696: ConvergenceWarning: Stochastic Optimizer: Maximum iterations (200) reached and the optimization hasn't converged yet.\n",
            "  ConvergenceWarning,\n"
          ]
        },
        {
          "output_type": "stream",
          "name": "stdout",
          "text": [
            "[CV 3/3] END activation=identity, hidden_layer_sizes=(5,), solver=sgd;, score=0.780 total time=  56.1s\n",
            "[CV 1/3] END activation=identity, hidden_layer_sizes=(5,), solver=adam;, score=0.861 total time=  39.4s\n",
            "[CV 2/3] END activation=identity, hidden_layer_sizes=(5,), solver=adam;, score=0.849 total time=  44.7s\n",
            "[CV 3/3] END activation=identity, hidden_layer_sizes=(5,), solver=adam;, score=0.852 total time=  47.0s\n",
            "[CV 1/3] END activation=identity, hidden_layer_sizes=(6,), solver=lbfgs;, score=0.886 total time=   7.9s\n",
            "[CV 2/3] END activation=identity, hidden_layer_sizes=(6,), solver=lbfgs;, score=0.881 total time=   5.9s\n",
            "[CV 3/3] END activation=identity, hidden_layer_sizes=(6,), solver=lbfgs;, score=0.865 total time=   9.5s\n"
          ]
        },
        {
          "output_type": "stream",
          "name": "stderr",
          "text": [
            "/usr/local/lib/python3.7/dist-packages/sklearn/neural_network/_multilayer_perceptron.py:696: ConvergenceWarning: Stochastic Optimizer: Maximum iterations (200) reached and the optimization hasn't converged yet.\n",
            "  ConvergenceWarning,\n"
          ]
        },
        {
          "output_type": "stream",
          "name": "stdout",
          "text": [
            "[CV 1/3] END activation=identity, hidden_layer_sizes=(6,), solver=sgd;, score=0.836 total time= 1.1min\n"
          ]
        },
        {
          "output_type": "stream",
          "name": "stderr",
          "text": [
            "/usr/local/lib/python3.7/dist-packages/sklearn/neural_network/_multilayer_perceptron.py:696: ConvergenceWarning: Stochastic Optimizer: Maximum iterations (200) reached and the optimization hasn't converged yet.\n",
            "  ConvergenceWarning,\n"
          ]
        },
        {
          "output_type": "stream",
          "name": "stdout",
          "text": [
            "[CV 2/3] END activation=identity, hidden_layer_sizes=(6,), solver=sgd;, score=0.840 total time= 1.1min\n"
          ]
        },
        {
          "output_type": "stream",
          "name": "stderr",
          "text": [
            "/usr/local/lib/python3.7/dist-packages/sklearn/neural_network/_multilayer_perceptron.py:696: ConvergenceWarning: Stochastic Optimizer: Maximum iterations (200) reached and the optimization hasn't converged yet.\n",
            "  ConvergenceWarning,\n"
          ]
        },
        {
          "output_type": "stream",
          "name": "stdout",
          "text": [
            "[CV 3/3] END activation=identity, hidden_layer_sizes=(6,), solver=sgd;, score=0.837 total time= 1.1min\n",
            "[CV 1/3] END activation=identity, hidden_layer_sizes=(6,), solver=adam;, score=0.850 total time=  49.4s\n",
            "[CV 2/3] END activation=identity, hidden_layer_sizes=(6,), solver=adam;, score=0.850 total time=  49.2s\n",
            "[CV 3/3] END activation=identity, hidden_layer_sizes=(6,), solver=adam;, score=0.845 total time=  50.1s\n",
            "[CV 1/3] END activation=identity, hidden_layer_sizes=(7,), solver=lbfgs;, score=0.871 total time=   9.0s\n",
            "[CV 2/3] END activation=identity, hidden_layer_sizes=(7,), solver=lbfgs;, score=0.880 total time=   7.6s\n",
            "[CV 3/3] END activation=identity, hidden_layer_sizes=(7,), solver=lbfgs;, score=0.869 total time=   8.2s\n"
          ]
        },
        {
          "output_type": "stream",
          "name": "stderr",
          "text": [
            "/usr/local/lib/python3.7/dist-packages/sklearn/neural_network/_multilayer_perceptron.py:696: ConvergenceWarning: Stochastic Optimizer: Maximum iterations (200) reached and the optimization hasn't converged yet.\n",
            "  ConvergenceWarning,\n"
          ]
        },
        {
          "output_type": "stream",
          "name": "stdout",
          "text": [
            "[CV 1/3] END activation=identity, hidden_layer_sizes=(7,), solver=sgd;, score=0.846 total time= 1.3min\n"
          ]
        },
        {
          "output_type": "stream",
          "name": "stderr",
          "text": [
            "/usr/local/lib/python3.7/dist-packages/sklearn/neural_network/_multilayer_perceptron.py:696: ConvergenceWarning: Stochastic Optimizer: Maximum iterations (200) reached and the optimization hasn't converged yet.\n",
            "  ConvergenceWarning,\n"
          ]
        },
        {
          "output_type": "stream",
          "name": "stdout",
          "text": [
            "[CV 2/3] END activation=identity, hidden_layer_sizes=(7,), solver=sgd;, score=0.851 total time= 1.3min\n"
          ]
        },
        {
          "output_type": "stream",
          "name": "stderr",
          "text": [
            "/usr/local/lib/python3.7/dist-packages/sklearn/neural_network/_multilayer_perceptron.py:696: ConvergenceWarning: Stochastic Optimizer: Maximum iterations (200) reached and the optimization hasn't converged yet.\n",
            "  ConvergenceWarning,\n"
          ]
        },
        {
          "output_type": "stream",
          "name": "stdout",
          "text": [
            "[CV 3/3] END activation=identity, hidden_layer_sizes=(7,), solver=sgd;, score=0.853 total time= 1.3min\n",
            "[CV 1/3] END activation=identity, hidden_layer_sizes=(7,), solver=adam;, score=0.859 total time=  50.4s\n",
            "[CV 2/3] END activation=identity, hidden_layer_sizes=(7,), solver=adam;, score=0.848 total time=  49.4s\n",
            "[CV 3/3] END activation=identity, hidden_layer_sizes=(7,), solver=adam;, score=0.842 total time=  56.4s\n",
            "[CV 1/3] END activation=logistic, hidden_layer_sizes=4, solver=lbfgs;, score=0.881 total time=   6.5s\n",
            "[CV 2/3] END activation=logistic, hidden_layer_sizes=4, solver=lbfgs;, score=0.887 total time=   6.0s\n",
            "[CV 3/3] END activation=logistic, hidden_layer_sizes=4, solver=lbfgs;, score=0.883 total time=   6.6s\n",
            "[CV 1/3] END activation=logistic, hidden_layer_sizes=4, solver=sgd;, score=0.773 total time=   6.8s\n",
            "[CV 2/3] END activation=logistic, hidden_layer_sizes=4, solver=sgd;, score=0.773 total time=   7.2s\n",
            "[CV 3/3] END activation=logistic, hidden_layer_sizes=4, solver=sgd;, score=0.773 total time=   7.3s\n"
          ]
        },
        {
          "output_type": "stream",
          "name": "stderr",
          "text": [
            "/usr/local/lib/python3.7/dist-packages/sklearn/neural_network/_multilayer_perceptron.py:696: ConvergenceWarning: Stochastic Optimizer: Maximum iterations (200) reached and the optimization hasn't converged yet.\n",
            "  ConvergenceWarning,\n"
          ]
        },
        {
          "output_type": "stream",
          "name": "stdout",
          "text": [
            "[CV 1/3] END activation=logistic, hidden_layer_sizes=4, solver=adam;, score=0.860 total time= 1.2min\n"
          ]
        },
        {
          "output_type": "stream",
          "name": "stderr",
          "text": [
            "/usr/local/lib/python3.7/dist-packages/sklearn/neural_network/_multilayer_perceptron.py:696: ConvergenceWarning: Stochastic Optimizer: Maximum iterations (200) reached and the optimization hasn't converged yet.\n",
            "  ConvergenceWarning,\n"
          ]
        },
        {
          "output_type": "stream",
          "name": "stdout",
          "text": [
            "[CV 2/3] END activation=logistic, hidden_layer_sizes=4, solver=adam;, score=0.865 total time= 1.2min\n"
          ]
        },
        {
          "output_type": "stream",
          "name": "stderr",
          "text": [
            "/usr/local/lib/python3.7/dist-packages/sklearn/neural_network/_multilayer_perceptron.py:696: ConvergenceWarning: Stochastic Optimizer: Maximum iterations (200) reached and the optimization hasn't converged yet.\n",
            "  ConvergenceWarning,\n"
          ]
        },
        {
          "output_type": "stream",
          "name": "stdout",
          "text": [
            "[CV 3/3] END activation=logistic, hidden_layer_sizes=4, solver=adam;, score=0.865 total time= 1.2min\n",
            "[CV 1/3] END activation=logistic, hidden_layer_sizes=(5,), solver=lbfgs;, score=0.876 total time=  17.8s\n",
            "[CV 2/3] END activation=logistic, hidden_layer_sizes=(5,), solver=lbfgs;, score=0.883 total time=   6.9s\n",
            "[CV 3/3] END activation=logistic, hidden_layer_sizes=(5,), solver=lbfgs;, score=0.875 total time=   8.9s\n",
            "[CV 1/3] END activation=logistic, hidden_layer_sizes=(5,), solver=sgd;, score=0.773 total time=   8.5s\n",
            "[CV 2/3] END activation=logistic, hidden_layer_sizes=(5,), solver=sgd;, score=0.773 total time=   8.5s\n",
            "[CV 3/3] END activation=logistic, hidden_layer_sizes=(5,), solver=sgd;, score=0.773 total time=   7.6s\n"
          ]
        },
        {
          "output_type": "stream",
          "name": "stderr",
          "text": [
            "/usr/local/lib/python3.7/dist-packages/sklearn/neural_network/_multilayer_perceptron.py:696: ConvergenceWarning: Stochastic Optimizer: Maximum iterations (200) reached and the optimization hasn't converged yet.\n",
            "  ConvergenceWarning,\n"
          ]
        },
        {
          "output_type": "stream",
          "name": "stdout",
          "text": [
            "[CV 1/3] END activation=logistic, hidden_layer_sizes=(5,), solver=adam;, score=0.868 total time= 1.5min\n"
          ]
        },
        {
          "output_type": "stream",
          "name": "stderr",
          "text": [
            "/usr/local/lib/python3.7/dist-packages/sklearn/neural_network/_multilayer_perceptron.py:696: ConvergenceWarning: Stochastic Optimizer: Maximum iterations (200) reached and the optimization hasn't converged yet.\n",
            "  ConvergenceWarning,\n"
          ]
        },
        {
          "output_type": "stream",
          "name": "stdout",
          "text": [
            "[CV 2/3] END activation=logistic, hidden_layer_sizes=(5,), solver=adam;, score=0.863 total time= 1.5min\n"
          ]
        },
        {
          "output_type": "stream",
          "name": "stderr",
          "text": [
            "/usr/local/lib/python3.7/dist-packages/sklearn/neural_network/_multilayer_perceptron.py:696: ConvergenceWarning: Stochastic Optimizer: Maximum iterations (200) reached and the optimization hasn't converged yet.\n",
            "  ConvergenceWarning,\n"
          ]
        },
        {
          "output_type": "stream",
          "name": "stdout",
          "text": [
            "[CV 3/3] END activation=logistic, hidden_layer_sizes=(5,), solver=adam;, score=0.865 total time= 1.5min\n",
            "[CV 1/3] END activation=logistic, hidden_layer_sizes=(6,), solver=lbfgs;, score=0.882 total time=   7.1s\n",
            "[CV 2/3] END activation=logistic, hidden_layer_sizes=(6,), solver=lbfgs;, score=0.887 total time=   8.9s\n",
            "[CV 3/3] END activation=logistic, hidden_layer_sizes=(6,), solver=lbfgs;, score=0.884 total time=   7.6s\n",
            "[CV 1/3] END activation=logistic, hidden_layer_sizes=(6,), solver=sgd;, score=0.773 total time=   8.8s\n",
            "[CV 2/3] END activation=logistic, hidden_layer_sizes=(6,), solver=sgd;, score=0.773 total time=   8.5s\n",
            "[CV 3/3] END activation=logistic, hidden_layer_sizes=(6,), solver=sgd;, score=0.773 total time=   8.7s\n"
          ]
        },
        {
          "output_type": "stream",
          "name": "stderr",
          "text": [
            "/usr/local/lib/python3.7/dist-packages/sklearn/neural_network/_multilayer_perceptron.py:696: ConvergenceWarning: Stochastic Optimizer: Maximum iterations (200) reached and the optimization hasn't converged yet.\n",
            "  ConvergenceWarning,\n"
          ]
        },
        {
          "output_type": "stream",
          "name": "stdout",
          "text": [
            "[CV 1/3] END activation=logistic, hidden_layer_sizes=(6,), solver=adam;, score=0.872 total time= 1.6min\n"
          ]
        },
        {
          "output_type": "stream",
          "name": "stderr",
          "text": [
            "/usr/local/lib/python3.7/dist-packages/sklearn/neural_network/_multilayer_perceptron.py:696: ConvergenceWarning: Stochastic Optimizer: Maximum iterations (200) reached and the optimization hasn't converged yet.\n",
            "  ConvergenceWarning,\n"
          ]
        },
        {
          "output_type": "stream",
          "name": "stdout",
          "text": [
            "[CV 2/3] END activation=logistic, hidden_layer_sizes=(6,), solver=adam;, score=0.863 total time= 1.6min\n"
          ]
        },
        {
          "output_type": "stream",
          "name": "stderr",
          "text": [
            "/usr/local/lib/python3.7/dist-packages/sklearn/neural_network/_multilayer_perceptron.py:696: ConvergenceWarning: Stochastic Optimizer: Maximum iterations (200) reached and the optimization hasn't converged yet.\n",
            "  ConvergenceWarning,\n"
          ]
        },
        {
          "output_type": "stream",
          "name": "stdout",
          "text": [
            "[CV 3/3] END activation=logistic, hidden_layer_sizes=(6,), solver=adam;, score=0.865 total time= 1.6min\n",
            "[CV 1/3] END activation=logistic, hidden_layer_sizes=(7,), solver=lbfgs;, score=0.882 total time=   8.0s\n",
            "[CV 2/3] END activation=logistic, hidden_layer_sizes=(7,), solver=lbfgs;, score=0.882 total time=   8.2s\n",
            "[CV 3/3] END activation=logistic, hidden_layer_sizes=(7,), solver=lbfgs;, score=0.884 total time=   8.4s\n",
            "[CV 1/3] END activation=logistic, hidden_layer_sizes=(7,), solver=sgd;, score=0.773 total time=   9.4s\n",
            "[CV 2/3] END activation=logistic, hidden_layer_sizes=(7,), solver=sgd;, score=0.773 total time=   9.1s\n",
            "[CV 3/3] END activation=logistic, hidden_layer_sizes=(7,), solver=sgd;, score=0.773 total time=   8.4s\n",
            "[CV 1/3] END activation=logistic, hidden_layer_sizes=(7,), solver=adam;, score=0.869 total time= 1.8min\n"
          ]
        },
        {
          "output_type": "stream",
          "name": "stderr",
          "text": [
            "/usr/local/lib/python3.7/dist-packages/sklearn/neural_network/_multilayer_perceptron.py:696: ConvergenceWarning: Stochastic Optimizer: Maximum iterations (200) reached and the optimization hasn't converged yet.\n",
            "  ConvergenceWarning,\n"
          ]
        },
        {
          "output_type": "stream",
          "name": "stdout",
          "text": [
            "[CV 2/3] END activation=logistic, hidden_layer_sizes=(7,), solver=adam;, score=0.859 total time= 1.9min\n"
          ]
        },
        {
          "output_type": "stream",
          "name": "stderr",
          "text": [
            "/usr/local/lib/python3.7/dist-packages/sklearn/neural_network/_multilayer_perceptron.py:696: ConvergenceWarning: Stochastic Optimizer: Maximum iterations (200) reached and the optimization hasn't converged yet.\n",
            "  ConvergenceWarning,\n"
          ]
        },
        {
          "output_type": "stream",
          "name": "stdout",
          "text": [
            "[CV 3/3] END activation=logistic, hidden_layer_sizes=(7,), solver=adam;, score=0.861 total time= 1.9min\n",
            "[CV 1/3] END activation=tanh, hidden_layer_sizes=4, solver=lbfgs;, score=0.889 total time=   7.5s\n",
            "[CV 2/3] END activation=tanh, hidden_layer_sizes=4, solver=lbfgs;, score=0.889 total time=   5.4s\n"
          ]
        },
        {
          "output_type": "stream",
          "name": "stderr",
          "text": [
            "/usr/local/lib/python3.7/dist-packages/sklearn/neural_network/_multilayer_perceptron.py:549: ConvergenceWarning: lbfgs failed to converge (status=1):\n",
            "STOP: TOTAL NO. of ITERATIONS REACHED LIMIT.\n",
            "\n",
            "Increase the number of iterations (max_iter) or scale the data as shown in:\n",
            "    https://scikit-learn.org/stable/modules/preprocessing.html\n",
            "  self.n_iter_ = _check_optimize_result(\"lbfgs\", opt_res, self.max_iter)\n"
          ]
        },
        {
          "output_type": "stream",
          "name": "stdout",
          "text": [
            "[CV 3/3] END activation=tanh, hidden_layer_sizes=4, solver=lbfgs;, score=0.860 total time=  11.2s\n"
          ]
        },
        {
          "output_type": "stream",
          "name": "stderr",
          "text": [
            "/usr/local/lib/python3.7/dist-packages/sklearn/neural_network/_multilayer_perceptron.py:696: ConvergenceWarning: Stochastic Optimizer: Maximum iterations (200) reached and the optimization hasn't converged yet.\n",
            "  ConvergenceWarning,\n"
          ]
        },
        {
          "output_type": "stream",
          "name": "stdout",
          "text": [
            "[CV 1/3] END activation=tanh, hidden_layer_sizes=4, solver=sgd;, score=0.826 total time=  48.8s\n",
            "[CV 2/3] END activation=tanh, hidden_layer_sizes=4, solver=sgd;, score=0.773 total time=   7.5s\n"
          ]
        },
        {
          "output_type": "stream",
          "name": "stderr",
          "text": [
            "/usr/local/lib/python3.7/dist-packages/sklearn/neural_network/_multilayer_perceptron.py:696: ConvergenceWarning: Stochastic Optimizer: Maximum iterations (200) reached and the optimization hasn't converged yet.\n",
            "  ConvergenceWarning,\n"
          ]
        },
        {
          "output_type": "stream",
          "name": "stdout",
          "text": [
            "[CV 3/3] END activation=tanh, hidden_layer_sizes=4, solver=sgd;, score=0.824 total time=  49.3s\n",
            "[CV 1/3] END activation=tanh, hidden_layer_sizes=4, solver=adam;, score=0.858 total time=  37.4s\n",
            "[CV 2/3] END activation=tanh, hidden_layer_sizes=4, solver=adam;, score=0.851 total time=  39.6s\n",
            "[CV 3/3] END activation=tanh, hidden_layer_sizes=4, solver=adam;, score=0.849 total time=  42.6s\n",
            "[CV 1/3] END activation=tanh, hidden_layer_sizes=(5,), solver=lbfgs;, score=0.878 total time=  10.2s\n",
            "[CV 2/3] END activation=tanh, hidden_layer_sizes=(5,), solver=lbfgs;, score=0.882 total time=   9.6s\n",
            "[CV 3/3] END activation=tanh, hidden_layer_sizes=(5,), solver=lbfgs;, score=0.878 total time=   7.3s\n"
          ]
        },
        {
          "output_type": "stream",
          "name": "stderr",
          "text": [
            "/usr/local/lib/python3.7/dist-packages/sklearn/neural_network/_multilayer_perceptron.py:696: ConvergenceWarning: Stochastic Optimizer: Maximum iterations (200) reached and the optimization hasn't converged yet.\n",
            "  ConvergenceWarning,\n"
          ]
        },
        {
          "output_type": "stream",
          "name": "stdout",
          "text": [
            "[CV 1/3] END activation=tanh, hidden_layer_sizes=(5,), solver=sgd;, score=0.842 total time=  57.6s\n"
          ]
        },
        {
          "output_type": "stream",
          "name": "stderr",
          "text": [
            "/usr/local/lib/python3.7/dist-packages/sklearn/neural_network/_multilayer_perceptron.py:696: ConvergenceWarning: Stochastic Optimizer: Maximum iterations (200) reached and the optimization hasn't converged yet.\n",
            "  ConvergenceWarning,\n"
          ]
        },
        {
          "output_type": "stream",
          "name": "stdout",
          "text": [
            "[CV 2/3] END activation=tanh, hidden_layer_sizes=(5,), solver=sgd;, score=0.794 total time=  57.3s\n"
          ]
        },
        {
          "output_type": "stream",
          "name": "stderr",
          "text": [
            "/usr/local/lib/python3.7/dist-packages/sklearn/neural_network/_multilayer_perceptron.py:696: ConvergenceWarning: Stochastic Optimizer: Maximum iterations (200) reached and the optimization hasn't converged yet.\n",
            "  ConvergenceWarning,\n"
          ]
        },
        {
          "output_type": "stream",
          "name": "stdout",
          "text": [
            "[CV 3/3] END activation=tanh, hidden_layer_sizes=(5,), solver=sgd;, score=0.835 total time=  57.5s\n",
            "[CV 1/3] END activation=tanh, hidden_layer_sizes=(5,), solver=adam;, score=0.854 total time=  45.0s\n",
            "[CV 2/3] END activation=tanh, hidden_layer_sizes=(5,), solver=adam;, score=0.849 total time=  43.5s\n",
            "[CV 3/3] END activation=tanh, hidden_layer_sizes=(5,), solver=adam;, score=0.847 total time=  45.4s\n",
            "[CV 1/3] END activation=tanh, hidden_layer_sizes=(6,), solver=lbfgs;, score=0.886 total time=   7.9s\n",
            "[CV 2/3] END activation=tanh, hidden_layer_sizes=(6,), solver=lbfgs;, score=0.881 total time=   7.2s\n",
            "[CV 3/3] END activation=tanh, hidden_layer_sizes=(6,), solver=lbfgs;, score=0.871 total time=  12.5s\n"
          ]
        },
        {
          "output_type": "stream",
          "name": "stderr",
          "text": [
            "/usr/local/lib/python3.7/dist-packages/sklearn/neural_network/_multilayer_perceptron.py:696: ConvergenceWarning: Stochastic Optimizer: Maximum iterations (200) reached and the optimization hasn't converged yet.\n",
            "  ConvergenceWarning,\n"
          ]
        },
        {
          "output_type": "stream",
          "name": "stdout",
          "text": [
            "[CV 1/3] END activation=tanh, hidden_layer_sizes=(6,), solver=sgd;, score=0.837 total time= 1.1min\n"
          ]
        },
        {
          "output_type": "stream",
          "name": "stderr",
          "text": [
            "/usr/local/lib/python3.7/dist-packages/sklearn/neural_network/_multilayer_perceptron.py:696: ConvergenceWarning: Stochastic Optimizer: Maximum iterations (200) reached and the optimization hasn't converged yet.\n",
            "  ConvergenceWarning,\n"
          ]
        },
        {
          "output_type": "stream",
          "name": "stdout",
          "text": [
            "[CV 2/3] END activation=tanh, hidden_layer_sizes=(6,), solver=sgd;, score=0.827 total time= 1.1min\n"
          ]
        },
        {
          "output_type": "stream",
          "name": "stderr",
          "text": [
            "/usr/local/lib/python3.7/dist-packages/sklearn/neural_network/_multilayer_perceptron.py:696: ConvergenceWarning: Stochastic Optimizer: Maximum iterations (200) reached and the optimization hasn't converged yet.\n",
            "  ConvergenceWarning,\n"
          ]
        },
        {
          "output_type": "stream",
          "name": "stdout",
          "text": [
            "[CV 3/3] END activation=tanh, hidden_layer_sizes=(6,), solver=sgd;, score=0.798 total time= 1.1min\n",
            "[CV 1/3] END activation=tanh, hidden_layer_sizes=(6,), solver=adam;, score=0.854 total time=  50.2s\n",
            "[CV 2/3] END activation=tanh, hidden_layer_sizes=(6,), solver=adam;, score=0.847 total time=  49.1s\n",
            "[CV 3/3] END activation=tanh, hidden_layer_sizes=(6,), solver=adam;, score=0.845 total time=  53.1s\n",
            "[CV 1/3] END activation=tanh, hidden_layer_sizes=(7,), solver=lbfgs;, score=0.887 total time=   7.0s\n",
            "[CV 2/3] END activation=tanh, hidden_layer_sizes=(7,), solver=lbfgs;, score=0.887 total time=  10.0s\n",
            "[CV 3/3] END activation=tanh, hidden_layer_sizes=(7,), solver=lbfgs;, score=0.874 total time=   8.1s\n"
          ]
        },
        {
          "output_type": "stream",
          "name": "stderr",
          "text": [
            "/usr/local/lib/python3.7/dist-packages/sklearn/neural_network/_multilayer_perceptron.py:696: ConvergenceWarning: Stochastic Optimizer: Maximum iterations (200) reached and the optimization hasn't converged yet.\n",
            "  ConvergenceWarning,\n"
          ]
        },
        {
          "output_type": "stream",
          "name": "stdout",
          "text": [
            "[CV 1/3] END activation=tanh, hidden_layer_sizes=(7,), solver=sgd;, score=0.838 total time= 1.5min\n"
          ]
        },
        {
          "output_type": "stream",
          "name": "stderr",
          "text": [
            "/usr/local/lib/python3.7/dist-packages/sklearn/neural_network/_multilayer_perceptron.py:696: ConvergenceWarning: Stochastic Optimizer: Maximum iterations (200) reached and the optimization hasn't converged yet.\n",
            "  ConvergenceWarning,\n"
          ]
        },
        {
          "output_type": "stream",
          "name": "stdout",
          "text": [
            "[CV 2/3] END activation=tanh, hidden_layer_sizes=(7,), solver=sgd;, score=0.823 total time= 1.5min\n"
          ]
        },
        {
          "output_type": "stream",
          "name": "stderr",
          "text": [
            "/usr/local/lib/python3.7/dist-packages/sklearn/neural_network/_multilayer_perceptron.py:696: ConvergenceWarning: Stochastic Optimizer: Maximum iterations (200) reached and the optimization hasn't converged yet.\n",
            "  ConvergenceWarning,\n"
          ]
        },
        {
          "output_type": "stream",
          "name": "stdout",
          "text": [
            "[CV 3/3] END activation=tanh, hidden_layer_sizes=(7,), solver=sgd;, score=0.831 total time= 1.5min\n",
            "[CV 1/3] END activation=tanh, hidden_layer_sizes=(7,), solver=adam;, score=0.856 total time= 1.1min\n",
            "[CV 2/3] END activation=tanh, hidden_layer_sizes=(7,), solver=adam;, score=0.847 total time=  57.1s\n",
            "[CV 3/3] END activation=tanh, hidden_layer_sizes=(7,), solver=adam;, score=0.847 total time= 1.3min\n",
            "[CV 1/3] END activation=relu, hidden_layer_sizes=4, solver=lbfgs;, score=0.889 total time=  11.7s\n"
          ]
        },
        {
          "output_type": "stream",
          "name": "stderr",
          "text": [
            "/usr/local/lib/python3.7/dist-packages/sklearn/neural_network/_multilayer_perceptron.py:549: ConvergenceWarning: lbfgs failed to converge (status=1):\n",
            "STOP: TOTAL NO. of ITERATIONS REACHED LIMIT.\n",
            "\n",
            "Increase the number of iterations (max_iter) or scale the data as shown in:\n",
            "    https://scikit-learn.org/stable/modules/preprocessing.html\n",
            "  self.n_iter_ = _check_optimize_result(\"lbfgs\", opt_res, self.max_iter)\n"
          ]
        },
        {
          "output_type": "stream",
          "name": "stdout",
          "text": [
            "[CV 2/3] END activation=relu, hidden_layer_sizes=4, solver=lbfgs;, score=0.858 total time=  21.4s\n",
            "[CV 3/3] END activation=relu, hidden_layer_sizes=4, solver=lbfgs;, score=0.858 total time=   8.2s\n"
          ]
        },
        {
          "output_type": "stream",
          "name": "stderr",
          "text": [
            "/usr/local/lib/python3.7/dist-packages/sklearn/neural_network/_multilayer_perceptron.py:696: ConvergenceWarning: Stochastic Optimizer: Maximum iterations (200) reached and the optimization hasn't converged yet.\n",
            "  ConvergenceWarning,\n"
          ]
        },
        {
          "output_type": "stream",
          "name": "stdout",
          "text": [
            "[CV 1/3] END activation=relu, hidden_layer_sizes=4, solver=sgd;, score=0.816 total time=  49.1s\n"
          ]
        },
        {
          "output_type": "stream",
          "name": "stderr",
          "text": [
            "/usr/local/lib/python3.7/dist-packages/sklearn/neural_network/_multilayer_perceptron.py:696: ConvergenceWarning: Stochastic Optimizer: Maximum iterations (200) reached and the optimization hasn't converged yet.\n",
            "  ConvergenceWarning,\n"
          ]
        },
        {
          "output_type": "stream",
          "name": "stdout",
          "text": [
            "[CV 2/3] END activation=relu, hidden_layer_sizes=4, solver=sgd;, score=0.831 total time=  49.5s\n"
          ]
        },
        {
          "output_type": "stream",
          "name": "stderr",
          "text": [
            "/usr/local/lib/python3.7/dist-packages/sklearn/neural_network/_multilayer_perceptron.py:696: ConvergenceWarning: Stochastic Optimizer: Maximum iterations (200) reached and the optimization hasn't converged yet.\n",
            "  ConvergenceWarning,\n"
          ]
        },
        {
          "output_type": "stream",
          "name": "stdout",
          "text": [
            "[CV 3/3] END activation=relu, hidden_layer_sizes=4, solver=sgd;, score=0.837 total time=  49.7s\n",
            "[CV 1/3] END activation=relu, hidden_layer_sizes=4, solver=adam;, score=0.854 total time=  42.6s\n",
            "[CV 2/3] END activation=relu, hidden_layer_sizes=4, solver=adam;, score=0.849 total time=  41.4s\n",
            "[CV 3/3] END activation=relu, hidden_layer_sizes=4, solver=adam;, score=0.853 total time=  47.5s\n"
          ]
        },
        {
          "output_type": "stream",
          "name": "stderr",
          "text": [
            "/usr/local/lib/python3.7/dist-packages/sklearn/neural_network/_multilayer_perceptron.py:549: ConvergenceWarning: lbfgs failed to converge (status=1):\n",
            "STOP: TOTAL NO. of ITERATIONS REACHED LIMIT.\n",
            "\n",
            "Increase the number of iterations (max_iter) or scale the data as shown in:\n",
            "    https://scikit-learn.org/stable/modules/preprocessing.html\n",
            "  self.n_iter_ = _check_optimize_result(\"lbfgs\", opt_res, self.max_iter)\n"
          ]
        },
        {
          "output_type": "stream",
          "name": "stdout",
          "text": [
            "[CV 1/3] END activation=relu, hidden_layer_sizes=(5,), solver=lbfgs;, score=0.831 total time=  15.4s\n",
            "[CV 2/3] END activation=relu, hidden_layer_sizes=(5,), solver=lbfgs;, score=0.877 total time=   7.8s\n",
            "[CV 3/3] END activation=relu, hidden_layer_sizes=(5,), solver=lbfgs;, score=0.773 total time=   0.8s\n"
          ]
        },
        {
          "output_type": "stream",
          "name": "stderr",
          "text": [
            "/usr/local/lib/python3.7/dist-packages/sklearn/neural_network/_multilayer_perceptron.py:696: ConvergenceWarning: Stochastic Optimizer: Maximum iterations (200) reached and the optimization hasn't converged yet.\n",
            "  ConvergenceWarning,\n"
          ]
        },
        {
          "output_type": "stream",
          "name": "stdout",
          "text": [
            "[CV 1/3] END activation=relu, hidden_layer_sizes=(5,), solver=sgd;, score=0.839 total time=  59.5s\n"
          ]
        },
        {
          "output_type": "stream",
          "name": "stderr",
          "text": [
            "/usr/local/lib/python3.7/dist-packages/sklearn/neural_network/_multilayer_perceptron.py:696: ConvergenceWarning: Stochastic Optimizer: Maximum iterations (200) reached and the optimization hasn't converged yet.\n",
            "  ConvergenceWarning,\n"
          ]
        },
        {
          "output_type": "stream",
          "name": "stdout",
          "text": [
            "[CV 2/3] END activation=relu, hidden_layer_sizes=(5,), solver=sgd;, score=0.840 total time=  59.4s\n"
          ]
        },
        {
          "output_type": "stream",
          "name": "stderr",
          "text": [
            "/usr/local/lib/python3.7/dist-packages/sklearn/neural_network/_multilayer_perceptron.py:696: ConvergenceWarning: Stochastic Optimizer: Maximum iterations (200) reached and the optimization hasn't converged yet.\n",
            "  ConvergenceWarning,\n"
          ]
        },
        {
          "output_type": "stream",
          "name": "stdout",
          "text": [
            "[CV 3/3] END activation=relu, hidden_layer_sizes=(5,), solver=sgd;, score=0.788 total time=  59.7s\n",
            "[CV 1/3] END activation=relu, hidden_layer_sizes=(5,), solver=adam;, score=0.865 total time=  47.4s\n",
            "[CV 2/3] END activation=relu, hidden_layer_sizes=(5,), solver=adam;, score=0.862 total time=  47.7s\n",
            "[CV 3/3] END activation=relu, hidden_layer_sizes=(5,), solver=adam;, score=0.850 total time=  51.1s\n",
            "[CV 1/3] END activation=relu, hidden_layer_sizes=(6,), solver=lbfgs;, score=0.888 total time=   8.5s\n",
            "[CV 2/3] END activation=relu, hidden_layer_sizes=(6,), solver=lbfgs;, score=0.889 total time=   8.3s\n"
          ]
        },
        {
          "output_type": "stream",
          "name": "stderr",
          "text": [
            "/usr/local/lib/python3.7/dist-packages/sklearn/neural_network/_multilayer_perceptron.py:549: ConvergenceWarning: lbfgs failed to converge (status=1):\n",
            "STOP: TOTAL NO. of ITERATIONS REACHED LIMIT.\n",
            "\n",
            "Increase the number of iterations (max_iter) or scale the data as shown in:\n",
            "    https://scikit-learn.org/stable/modules/preprocessing.html\n",
            "  self.n_iter_ = _check_optimize_result(\"lbfgs\", opt_res, self.max_iter)\n"
          ]
        },
        {
          "output_type": "stream",
          "name": "stdout",
          "text": [
            "[CV 3/3] END activation=relu, hidden_layer_sizes=(6,), solver=lbfgs;, score=0.843 total time=  20.5s\n"
          ]
        },
        {
          "output_type": "stream",
          "name": "stderr",
          "text": [
            "/usr/local/lib/python3.7/dist-packages/sklearn/neural_network/_multilayer_perceptron.py:696: ConvergenceWarning: Stochastic Optimizer: Maximum iterations (200) reached and the optimization hasn't converged yet.\n",
            "  ConvergenceWarning,\n"
          ]
        },
        {
          "output_type": "stream",
          "name": "stdout",
          "text": [
            "[CV 1/3] END activation=relu, hidden_layer_sizes=(6,), solver=sgd;, score=0.820 total time= 1.1min\n"
          ]
        },
        {
          "output_type": "stream",
          "name": "stderr",
          "text": [
            "/usr/local/lib/python3.7/dist-packages/sklearn/neural_network/_multilayer_perceptron.py:696: ConvergenceWarning: Stochastic Optimizer: Maximum iterations (200) reached and the optimization hasn't converged yet.\n",
            "  ConvergenceWarning,\n"
          ]
        },
        {
          "output_type": "stream",
          "name": "stdout",
          "text": [
            "[CV 2/3] END activation=relu, hidden_layer_sizes=(6,), solver=sgd;, score=0.830 total time= 1.1min\n"
          ]
        },
        {
          "output_type": "stream",
          "name": "stderr",
          "text": [
            "/usr/local/lib/python3.7/dist-packages/sklearn/neural_network/_multilayer_perceptron.py:696: ConvergenceWarning: Stochastic Optimizer: Maximum iterations (200) reached and the optimization hasn't converged yet.\n",
            "  ConvergenceWarning,\n"
          ]
        },
        {
          "output_type": "stream",
          "name": "stdout",
          "text": [
            "[CV 3/3] END activation=relu, hidden_layer_sizes=(6,), solver=sgd;, score=0.774 total time= 1.1min\n",
            "[CV 1/3] END activation=relu, hidden_layer_sizes=(6,), solver=adam;, score=0.847 total time= 1.2min\n",
            "[CV 2/3] END activation=relu, hidden_layer_sizes=(6,), solver=adam;, score=0.861 total time=  49.4s\n",
            "[CV 3/3] END activation=relu, hidden_layer_sizes=(6,), solver=adam;, score=0.858 total time=  54.9s\n",
            "[CV 1/3] END activation=relu, hidden_layer_sizes=(7,), solver=lbfgs;, score=0.883 total time=   7.6s\n",
            "[CV 2/3] END activation=relu, hidden_layer_sizes=(7,), solver=lbfgs;, score=0.879 total time=   9.0s\n",
            "[CV 3/3] END activation=relu, hidden_layer_sizes=(7,), solver=lbfgs;, score=0.859 total time=   9.9s\n"
          ]
        },
        {
          "output_type": "stream",
          "name": "stderr",
          "text": [
            "/usr/local/lib/python3.7/dist-packages/sklearn/neural_network/_multilayer_perceptron.py:696: ConvergenceWarning: Stochastic Optimizer: Maximum iterations (200) reached and the optimization hasn't converged yet.\n",
            "  ConvergenceWarning,\n"
          ]
        },
        {
          "output_type": "stream",
          "name": "stdout",
          "text": [
            "[CV 1/3] END activation=relu, hidden_layer_sizes=(7,), solver=sgd;, score=0.804 total time= 1.3min\n"
          ]
        },
        {
          "output_type": "stream",
          "name": "stderr",
          "text": [
            "/usr/local/lib/python3.7/dist-packages/sklearn/neural_network/_multilayer_perceptron.py:696: ConvergenceWarning: Stochastic Optimizer: Maximum iterations (200) reached and the optimization hasn't converged yet.\n",
            "  ConvergenceWarning,\n"
          ]
        },
        {
          "output_type": "stream",
          "name": "stdout",
          "text": [
            "[CV 2/3] END activation=relu, hidden_layer_sizes=(7,), solver=sgd;, score=0.846 total time= 1.3min\n"
          ]
        },
        {
          "output_type": "stream",
          "name": "stderr",
          "text": [
            "/usr/local/lib/python3.7/dist-packages/sklearn/neural_network/_multilayer_perceptron.py:696: ConvergenceWarning: Stochastic Optimizer: Maximum iterations (200) reached and the optimization hasn't converged yet.\n",
            "  ConvergenceWarning,\n"
          ]
        },
        {
          "output_type": "stream",
          "name": "stdout",
          "text": [
            "[CV 3/3] END activation=relu, hidden_layer_sizes=(7,), solver=sgd;, score=0.780 total time= 1.3min\n",
            "[CV 1/3] END activation=relu, hidden_layer_sizes=(7,), solver=adam;, score=0.862 total time=  54.6s\n",
            "[CV 2/3] END activation=relu, hidden_layer_sizes=(7,), solver=adam;, score=0.856 total time=  50.9s\n",
            "[CV 3/3] END activation=relu, hidden_layer_sizes=(7,), solver=adam;, score=0.849 total time=  55.1s\n",
            "0.8873050026896181\n"
          ]
        },
        {
          "output_type": "execute_result",
          "data": {
            "text/plain": [
              "{'activation': 'logistic', 'hidden_layer_sizes': (6,), 'solver': 'lbfgs'}"
            ]
          },
          "metadata": {},
          "execution_count": 15
        }
      ]
    },
    {
      "cell_type": "code",
      "source": [
        "# DT using GridSearch\n",
        "\n",
        "train_X, test_X, train_Y, test_Y = train_test_split(X,Y,train_size=5/100)\n",
        "def train_using_gini(X_train, X_test, Y_train):\n",
        "    clf_gini = DecisionTreeClassifier(criterion = \"gini\",random_state = 100, max_depth=3, min_samples_leaf=5)\n",
        "    clf_gini.fit(X_train, Y_train)\n",
        "    return clf_gini\n",
        "      \n",
        "def tarin_using_entropy(X_train, X_test, y_train):\n",
        "    clf_entropy = DecisionTreeClassifier(criterion = \"entropy\", random_state = 100, max_depth = 3, min_samples_leaf = 5)\n",
        "    clf_entropy.fit(X_train, y_train)\n",
        "    return clf_entropy\n",
        "\n",
        "def prediction(X_test, clf_object):\n",
        "    y_pred = clf_object.predict(test_X)\n",
        "    print(\"Predicted values:\")\n",
        "    print(y_pred)\n",
        "    return y_pred\n",
        "    \n",
        "def cal_accuracy(y_test, y_pred):\n",
        "    \"\"\"print(\"Confusion Matrix: \",confusion_matrix(y_test, y_pred))\n",
        "    print (\"Accuracy : \",accuracy_score(y_test,y_pred)*100)\n",
        "    print(\"Report : \",classification_report(y_test, y_pred))\"\"\"\n",
        "    return accuracy_score(y_test,y_pred)*100\n",
        "\n",
        "params5 = {'criterion':['gini','entropy']}\n",
        "grid = GridSearchCV(DecisionTreeClassifier(), params5, cv=10, scoring='accuracy',verbose=3)\n",
        "grid.fit(train_X,train_Y)\n",
        "pred_y = grid.predict(test_X)\n",
        "print(metrics.accuracy_score(pred_y,test_Y))\n",
        "grid.best_params_"
      ],
      "metadata": {
        "colab": {
          "base_uri": "https://localhost:8080/"
        },
        "id": "q_CAgZYPizQg",
        "outputId": "dfa0c72f-6935-43b7-9ad8-83f41bb91c9e"
      },
      "execution_count": null,
      "outputs": [
        {
          "output_type": "stream",
          "name": "stdout",
          "text": [
            "Fitting 10 folds for each of 2 candidates, totalling 20 fits\n",
            "[CV 1/10] END ...................criterion=gini;, score=0.815 total time=   0.1s\n",
            "[CV 2/10] END ...................criterion=gini;, score=0.887 total time=   0.1s\n",
            "[CV 3/10] END ...................criterion=gini;, score=0.871 total time=   0.1s\n",
            "[CV 4/10] END ...................criterion=gini;, score=0.823 total time=   0.1s\n",
            "[CV 5/10] END ...................criterion=gini;, score=0.823 total time=   0.1s\n",
            "[CV 6/10] END ...................criterion=gini;, score=0.831 total time=   0.1s\n",
            "[CV 7/10] END ...................criterion=gini;, score=0.855 total time=   0.1s\n",
            "[CV 8/10] END ...................criterion=gini;, score=0.887 total time=   0.1s\n",
            "[CV 9/10] END ...................criterion=gini;, score=0.823 total time=   0.1s\n",
            "[CV 10/10] END ..................criterion=gini;, score=0.854 total time=   0.1s\n",
            "[CV 1/10] END ................criterion=entropy;, score=0.790 total time=   0.1s\n",
            "[CV 2/10] END ................criterion=entropy;, score=0.887 total time=   0.1s\n",
            "[CV 3/10] END ................criterion=entropy;, score=0.855 total time=   0.1s\n",
            "[CV 4/10] END ................criterion=entropy;, score=0.847 total time=   0.1s\n",
            "[CV 5/10] END ................criterion=entropy;, score=0.839 total time=   0.1s\n",
            "[CV 6/10] END ................criterion=entropy;, score=0.855 total time=   0.1s\n",
            "[CV 7/10] END ................criterion=entropy;, score=0.863 total time=   0.1s\n",
            "[CV 8/10] END ................criterion=entropy;, score=0.831 total time=   0.1s\n",
            "[CV 9/10] END ................criterion=entropy;, score=0.831 total time=   0.1s\n",
            "[CV 10/10] END ...............criterion=entropy;, score=0.870 total time=   0.1s\n",
            "0.8598734230981608\n"
          ]
        },
        {
          "output_type": "execute_result",
          "data": {
            "text/plain": [
              "{'criterion': 'entropy'}"
            ]
          },
          "metadata": {},
          "execution_count": 13
        }
      ]
    },
    {
      "cell_type": "markdown",
      "source": [
        "# GirdSearch on All the Models (It will Return Model)"
      ],
      "metadata": {
        "id": "rAJXzWRchFOq"
      }
    },
    {
      "cell_type": "code",
      "source": [
        "train_X, test_X, train_Y, test_Y = train_test_split(X,Y,train_size=85/100)\n",
        "\n",
        "# Classifiers\n",
        "clf1 = MultinomialNB()\n",
        "clf2 = SVC()\n",
        "clf3 = KNeighborsClassifier()\n",
        "clf4 = MLPClassifier(max_iter=500)\n",
        "clf5 = DecisionTreeClassifier()\n",
        "\n",
        "# Params\n",
        "params1 = {'classifier__alpha' : [10**0,5**-1,10*-1,10**-2,10**-3,10**-4],\n",
        "           'classifier':[clf1]}\n",
        "params2 = {'classifier__C': [10**-2, 10**-1, 10**0, 10**1, 10**2],\n",
        "         'classifier__gamma': [10**0,10**-1,10**-2,10**-3,10**-4],\n",
        "         'classifier__kernel': ['linear','rbf','poly'],\n",
        "         'classifier': [clf2]}\n",
        "params3 = {'classifier__n_neighbors': range(1,100,2), 'classifier':[clf3]}\n",
        "params4 = {'classifier__solver': ['lbfgs', 'sgd'], 'classifier__hidden_layer_sizes':[(4,),(5,),(6,),(7,)],'classifier__activation':['logistic', 'tanh', 'relu'],'classifier':[clf4]}\n",
        "params5 = {'classifier__criterion':['gini','entropy','log_loss'], 'classifier':[clf5]}\n",
        "params = [params2, params1, params3, params4, params5]\n",
        "pipeline = Pipeline([('classifier',clf1)])\n",
        "search = GridSearchCV(pipeline,params,cv=5,n_jobs=-1,refit=True,scoring='accuracy',verbose=3)\n",
        "search.fit(train_X,train_Y)\n",
        "print(\"The Best Model: \",search.best_params_)\n",
        "print(\"The Best Accuracy: \",search.best_score_)"
      ],
      "metadata": {
        "id": "uOfF1wjYhQr6"
      },
      "execution_count": null,
      "outputs": []
    }
  ]
}